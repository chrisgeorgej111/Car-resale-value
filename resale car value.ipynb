{
 "cells": [
  {
   "cell_type": "code",
   "execution_count": 413,
   "id": "c38163d3",
   "metadata": {},
   "outputs": [],
   "source": [
    "import pandas as pd\n",
    "import warnings\n",
    "warnings.filterwarnings('ignore')"
   ]
  },
  {
   "cell_type": "code",
   "execution_count": 267,
   "id": "87470913",
   "metadata": {},
   "outputs": [],
   "source": [
    "data1=pd.read_excel('bangalore_cars.xlsx')"
   ]
  },
  {
   "cell_type": "code",
   "execution_count": 268,
   "id": "428b8bcc",
   "metadata": {},
   "outputs": [
    {
     "data": {
      "text/html": [
       "<div>\n",
       "<style scoped>\n",
       "    .dataframe tbody tr th:only-of-type {\n",
       "        vertical-align: middle;\n",
       "    }\n",
       "\n",
       "    .dataframe tbody tr th {\n",
       "        vertical-align: top;\n",
       "    }\n",
       "\n",
       "    .dataframe thead th {\n",
       "        text-align: right;\n",
       "    }\n",
       "</style>\n",
       "<table border=\"1\" class=\"dataframe\">\n",
       "  <thead>\n",
       "    <tr style=\"text-align: right;\">\n",
       "      <th></th>\n",
       "      <th>new_car_detail</th>\n",
       "      <th>new_car_overview</th>\n",
       "      <th>new_car_feature</th>\n",
       "      <th>new_car_specs</th>\n",
       "      <th>car_links</th>\n",
       "    </tr>\n",
       "  </thead>\n",
       "  <tbody>\n",
       "    <tr>\n",
       "      <th>0</th>\n",
       "      <td>{'it': 0, 'ft': 'Petrol', 'bt': 'Hatchback', '...</td>\n",
       "      <td>{'heading': 'Car overview', 'top': [{'key': 'R...</td>\n",
       "      <td>{'heading': 'Features', 'top': [{'value': 'Pow...</td>\n",
       "      <td>{'heading': 'Specifications', 'top': [{'key': ...</td>\n",
       "      <td>https://www.cardekho.com/used-car-details/used...</td>\n",
       "    </tr>\n",
       "    <tr>\n",
       "      <th>1</th>\n",
       "      <td>{'it': 0, 'ft': 'Petrol', 'bt': 'SUV', 'km': '...</td>\n",
       "      <td>{'heading': 'Car overview', 'top': [{'key': 'R...</td>\n",
       "      <td>{'heading': 'Features', 'top': [{'value': 'Pow...</td>\n",
       "      <td>{'heading': 'Specifications', 'top': [{'key': ...</td>\n",
       "      <td>https://www.cardekho.com/buy-used-car-details/...</td>\n",
       "    </tr>\n",
       "    <tr>\n",
       "      <th>2</th>\n",
       "      <td>{'it': 0, 'ft': 'Petrol', 'bt': 'Hatchback', '...</td>\n",
       "      <td>{'heading': 'Car overview', 'top': [{'key': 'R...</td>\n",
       "      <td>{'heading': 'Features', 'top': [{'value': 'Pow...</td>\n",
       "      <td>{'heading': 'Specifications', 'top': [{'key': ...</td>\n",
       "      <td>https://www.cardekho.com/used-car-details/used...</td>\n",
       "    </tr>\n",
       "    <tr>\n",
       "      <th>3</th>\n",
       "      <td>{'it': 0, 'ft': 'Petrol', 'bt': 'Sedan', 'km':...</td>\n",
       "      <td>{'heading': 'Car overview', 'top': [{'key': 'R...</td>\n",
       "      <td>{'heading': 'Features', 'top': [{'value': 'Pow...</td>\n",
       "      <td>{'heading': 'Specifications', 'top': [{'key': ...</td>\n",
       "      <td>https://www.cardekho.com/buy-used-car-details/...</td>\n",
       "    </tr>\n",
       "    <tr>\n",
       "      <th>4</th>\n",
       "      <td>{'it': 0, 'ft': 'Diesel', 'bt': 'SUV', 'km': '...</td>\n",
       "      <td>{'heading': 'Car overview', 'top': [{'key': 'R...</td>\n",
       "      <td>{'heading': 'Features', 'top': [{'value': 'Pow...</td>\n",
       "      <td>{'heading': 'Specifications', 'top': [{'key': ...</td>\n",
       "      <td>https://www.cardekho.com/used-car-details/used...</td>\n",
       "    </tr>\n",
       "    <tr>\n",
       "      <th>...</th>\n",
       "      <td>...</td>\n",
       "      <td>...</td>\n",
       "      <td>...</td>\n",
       "      <td>...</td>\n",
       "      <td>...</td>\n",
       "    </tr>\n",
       "    <tr>\n",
       "      <th>1476</th>\n",
       "      <td>{'it': 0, 'ft': 'Diesel', 'bt': 'SUV', 'km': '...</td>\n",
       "      <td>{'heading': 'Car overview', 'top': [{'key': 'R...</td>\n",
       "      <td>{'heading': 'Features', 'top': [{'value': 'Pow...</td>\n",
       "      <td>{'heading': 'Specifications', 'top': [{'key': ...</td>\n",
       "      <td>https://www.cardekho.com/used-car-details/used...</td>\n",
       "    </tr>\n",
       "    <tr>\n",
       "      <th>1477</th>\n",
       "      <td>{'it': 0, 'ft': 'Petrol', 'bt': 'Sedan', 'km':...</td>\n",
       "      <td>{'heading': 'Car overview', 'top': [{'key': 'R...</td>\n",
       "      <td>{'heading': 'Features', 'top': [{'value': 'Pow...</td>\n",
       "      <td>{'heading': 'Specifications', 'top': [{'key': ...</td>\n",
       "      <td>https://www.cardekho.com/used-car-details/used...</td>\n",
       "    </tr>\n",
       "    <tr>\n",
       "      <th>1478</th>\n",
       "      <td>{'it': 0, 'ft': 'Petrol', 'bt': 'Hatchback', '...</td>\n",
       "      <td>{'heading': 'Car overview', 'top': [{'key': 'R...</td>\n",
       "      <td>{'heading': 'Features', 'top': [{'value': 'Pow...</td>\n",
       "      <td>{'heading': 'Specifications', 'top': [{'key': ...</td>\n",
       "      <td>https://www.cardekho.com/used-car-details/used...</td>\n",
       "    </tr>\n",
       "    <tr>\n",
       "      <th>1479</th>\n",
       "      <td>{'it': 0, 'ft': 'Diesel', 'bt': 'Hatchback', '...</td>\n",
       "      <td>{'heading': 'Car overview', 'top': [{'key': 'R...</td>\n",
       "      <td>{'heading': 'Features', 'top': [{'value': 'Pow...</td>\n",
       "      <td>{'heading': 'Specifications', 'top': [{'key': ...</td>\n",
       "      <td>https://www.cardekho.com/used-car-details/used...</td>\n",
       "    </tr>\n",
       "    <tr>\n",
       "      <th>1480</th>\n",
       "      <td>{'it': 0, 'ft': 'Petrol', 'bt': 'Hatchback', '...</td>\n",
       "      <td>{'heading': 'Car overview', 'top': [{'key': 'R...</td>\n",
       "      <td>{'heading': 'Features', 'top': [{'value': 'Pow...</td>\n",
       "      <td>{'heading': 'Specifications', 'top': [{'key': ...</td>\n",
       "      <td>https://www.cardekho.com/used-car-details/used...</td>\n",
       "    </tr>\n",
       "  </tbody>\n",
       "</table>\n",
       "<p>1481 rows × 5 columns</p>\n",
       "</div>"
      ],
      "text/plain": [
       "                                         new_car_detail  \\\n",
       "0     {'it': 0, 'ft': 'Petrol', 'bt': 'Hatchback', '...   \n",
       "1     {'it': 0, 'ft': 'Petrol', 'bt': 'SUV', 'km': '...   \n",
       "2     {'it': 0, 'ft': 'Petrol', 'bt': 'Hatchback', '...   \n",
       "3     {'it': 0, 'ft': 'Petrol', 'bt': 'Sedan', 'km':...   \n",
       "4     {'it': 0, 'ft': 'Diesel', 'bt': 'SUV', 'km': '...   \n",
       "...                                                 ...   \n",
       "1476  {'it': 0, 'ft': 'Diesel', 'bt': 'SUV', 'km': '...   \n",
       "1477  {'it': 0, 'ft': 'Petrol', 'bt': 'Sedan', 'km':...   \n",
       "1478  {'it': 0, 'ft': 'Petrol', 'bt': 'Hatchback', '...   \n",
       "1479  {'it': 0, 'ft': 'Diesel', 'bt': 'Hatchback', '...   \n",
       "1480  {'it': 0, 'ft': 'Petrol', 'bt': 'Hatchback', '...   \n",
       "\n",
       "                                       new_car_overview  \\\n",
       "0     {'heading': 'Car overview', 'top': [{'key': 'R...   \n",
       "1     {'heading': 'Car overview', 'top': [{'key': 'R...   \n",
       "2     {'heading': 'Car overview', 'top': [{'key': 'R...   \n",
       "3     {'heading': 'Car overview', 'top': [{'key': 'R...   \n",
       "4     {'heading': 'Car overview', 'top': [{'key': 'R...   \n",
       "...                                                 ...   \n",
       "1476  {'heading': 'Car overview', 'top': [{'key': 'R...   \n",
       "1477  {'heading': 'Car overview', 'top': [{'key': 'R...   \n",
       "1478  {'heading': 'Car overview', 'top': [{'key': 'R...   \n",
       "1479  {'heading': 'Car overview', 'top': [{'key': 'R...   \n",
       "1480  {'heading': 'Car overview', 'top': [{'key': 'R...   \n",
       "\n",
       "                                        new_car_feature  \\\n",
       "0     {'heading': 'Features', 'top': [{'value': 'Pow...   \n",
       "1     {'heading': 'Features', 'top': [{'value': 'Pow...   \n",
       "2     {'heading': 'Features', 'top': [{'value': 'Pow...   \n",
       "3     {'heading': 'Features', 'top': [{'value': 'Pow...   \n",
       "4     {'heading': 'Features', 'top': [{'value': 'Pow...   \n",
       "...                                                 ...   \n",
       "1476  {'heading': 'Features', 'top': [{'value': 'Pow...   \n",
       "1477  {'heading': 'Features', 'top': [{'value': 'Pow...   \n",
       "1478  {'heading': 'Features', 'top': [{'value': 'Pow...   \n",
       "1479  {'heading': 'Features', 'top': [{'value': 'Pow...   \n",
       "1480  {'heading': 'Features', 'top': [{'value': 'Pow...   \n",
       "\n",
       "                                          new_car_specs  \\\n",
       "0     {'heading': 'Specifications', 'top': [{'key': ...   \n",
       "1     {'heading': 'Specifications', 'top': [{'key': ...   \n",
       "2     {'heading': 'Specifications', 'top': [{'key': ...   \n",
       "3     {'heading': 'Specifications', 'top': [{'key': ...   \n",
       "4     {'heading': 'Specifications', 'top': [{'key': ...   \n",
       "...                                                 ...   \n",
       "1476  {'heading': 'Specifications', 'top': [{'key': ...   \n",
       "1477  {'heading': 'Specifications', 'top': [{'key': ...   \n",
       "1478  {'heading': 'Specifications', 'top': [{'key': ...   \n",
       "1479  {'heading': 'Specifications', 'top': [{'key': ...   \n",
       "1480  {'heading': 'Specifications', 'top': [{'key': ...   \n",
       "\n",
       "                                              car_links  \n",
       "0     https://www.cardekho.com/used-car-details/used...  \n",
       "1     https://www.cardekho.com/buy-used-car-details/...  \n",
       "2     https://www.cardekho.com/used-car-details/used...  \n",
       "3     https://www.cardekho.com/buy-used-car-details/...  \n",
       "4     https://www.cardekho.com/used-car-details/used...  \n",
       "...                                                 ...  \n",
       "1476  https://www.cardekho.com/used-car-details/used...  \n",
       "1477  https://www.cardekho.com/used-car-details/used...  \n",
       "1478  https://www.cardekho.com/used-car-details/used...  \n",
       "1479  https://www.cardekho.com/used-car-details/used...  \n",
       "1480  https://www.cardekho.com/used-car-details/used...  \n",
       "\n",
       "[1481 rows x 5 columns]"
      ]
     },
     "execution_count": 268,
     "metadata": {},
     "output_type": "execute_result"
    }
   ],
   "source": [
    "data1"
   ]
  },
  {
   "cell_type": "code",
   "execution_count": 269,
   "id": "7cf3b347",
   "metadata": {},
   "outputs": [],
   "source": [
    "data1['new_car_detail'] = data1.new_car_detail.apply(eval)"
   ]
  },
  {
   "cell_type": "code",
   "execution_count": 270,
   "id": "6b216c3a",
   "metadata": {},
   "outputs": [],
   "source": [
    "data1['new_car_overview'] = data1.new_car_overview.apply(eval)"
   ]
  },
  {
   "cell_type": "code",
   "execution_count": 271,
   "id": "d8953a91",
   "metadata": {},
   "outputs": [],
   "source": [
    "data1['new_car_specs'] = data1.new_car_specs.apply(eval)"
   ]
  },
  {
   "cell_type": "code",
   "execution_count": null,
   "id": "13f4953f",
   "metadata": {},
   "outputs": [],
   "source": []
  },
  {
   "cell_type": "code",
   "execution_count": 69,
   "id": "1162518e",
   "metadata": {},
   "outputs": [],
   "source": []
  },
  {
   "cell_type": "code",
   "execution_count": 70,
   "id": "4edfdbf9",
   "metadata": {},
   "outputs": [],
   "source": []
  },
  {
   "cell_type": "code",
   "execution_count": 71,
   "id": "c0a6a286",
   "metadata": {},
   "outputs": [],
   "source": []
  },
  {
   "cell_type": "code",
   "execution_count": null,
   "id": "02315cf1",
   "metadata": {},
   "outputs": [],
   "source": []
  },
  {
   "cell_type": "code",
   "execution_count": 150,
   "id": "b23e2b8b",
   "metadata": {},
   "outputs": [],
   "source": []
  },
  {
   "cell_type": "code",
   "execution_count": 58,
   "id": "ae6d16bf",
   "metadata": {},
   "outputs": [],
   "source": []
  },
  {
   "cell_type": "code",
   "execution_count": null,
   "id": "62863ab1",
   "metadata": {},
   "outputs": [],
   "source": []
  },
  {
   "cell_type": "code",
   "execution_count": 272,
   "id": "3b8b37eb",
   "metadata": {},
   "outputs": [],
   "source": [
    "reg=[]\n",
    "for i in data1['new_car_overview']:\n",
    "    reg.append(i['top'][0]['value'])"
   ]
  },
  {
   "cell_type": "code",
   "execution_count": 273,
   "id": "5351cdab",
   "metadata": {},
   "outputs": [],
   "source": [
    "ins=[]\n",
    "for i in data1['new_car_overview']:\n",
    "    ins.append(i['top'][1]['value'])"
   ]
  },
  {
   "cell_type": "code",
   "execution_count": 274,
   "id": "77fdfe5f",
   "metadata": {},
   "outputs": [],
   "source": [
    "ft=[]\n",
    "for i in data1['new_car_overview']:\n",
    "    ft.append(i['top'][2]['value'])"
   ]
  },
  {
   "cell_type": "code",
   "execution_count": 275,
   "id": "d75c8b29",
   "metadata": {},
   "outputs": [],
   "source": [
    "seat=[]\n",
    "for i in data1['new_car_overview']:\n",
    "    seat.append(i['top'][3]['value'])"
   ]
  },
  {
   "cell_type": "code",
   "execution_count": 276,
   "id": "30aba209",
   "metadata": {},
   "outputs": [],
   "source": [
    "kms=[]\n",
    "for i in data1['new_car_overview']:\n",
    "    kms.append(i['top'][4]['value'])"
   ]
  },
  {
   "cell_type": "code",
   "execution_count": 277,
   "id": "7bfed648",
   "metadata": {},
   "outputs": [],
   "source": [
    "model=[]\n",
    "for i in data1['new_car_detail']:\n",
    "    model.append(i['model'])"
   ]
  },
  {
   "cell_type": "code",
   "execution_count": 278,
   "id": "4fc603e9",
   "metadata": {},
   "outputs": [],
   "source": [
    "owner=[]\n",
    "for i in data1['new_car_detail']:\n",
    "    owner.append(i['ownerNo'])"
   ]
  },
  {
   "cell_type": "code",
   "execution_count": null,
   "id": "eb7e2a2e",
   "metadata": {},
   "outputs": [],
   "source": []
  },
  {
   "cell_type": "code",
   "execution_count": 279,
   "id": "7567682a",
   "metadata": {},
   "outputs": [],
   "source": [
    "model_year=[]\n",
    "for i in data1['new_car_detail']:\n",
    "    model_year.append(i['modelYear'])\n"
   ]
  },
  {
   "cell_type": "code",
   "execution_count": 280,
   "id": "d231e544",
   "metadata": {},
   "outputs": [],
   "source": [
    "color=[]\n",
    "for i in data1['new_car_specs']:\n",
    "    color.append(i['data'][0]['list'][0]['value'])"
   ]
  },
  {
   "cell_type": "code",
   "execution_count": 281,
   "id": "ee43446e",
   "metadata": {},
   "outputs": [],
   "source": [
    "et=[]\n",
    "for i in data1['new_car_specs']:\n",
    "    et.append(i['data'][0]['list'][1]['value'])"
   ]
  },
  {
   "cell_type": "code",
   "execution_count": 282,
   "id": "830e4ff7",
   "metadata": {},
   "outputs": [],
   "source": [
    "milege=[]\n",
    "for i in data1['new_car_specs']:\n",
    "    milege.append(i['top'][0]['value'])"
   ]
  },
  {
   "cell_type": "code",
   "execution_count": null,
   "id": "44b88d4e",
   "metadata": {},
   "outputs": [],
   "source": []
  },
  {
   "cell_type": "code",
   "execution_count": 283,
   "id": "ae8658ca",
   "metadata": {},
   "outputs": [],
   "source": [
    "price=[]\n",
    "for i in data1['new_car_detail']:\n",
    "    price.append(i['price'])\n"
   ]
  },
  {
   "cell_type": "code",
   "execution_count": 284,
   "id": "f071caaf",
   "metadata": {},
   "outputs": [],
   "source": [
    "price_save=[]\n",
    "for i in data1['new_car_detail']:\n",
    "    price_save.append(i['priceSaving'])\n",
    "\n",
    "\n"
   ]
  },
  {
   "cell_type": "code",
   "execution_count": null,
   "id": "9abd278b",
   "metadata": {},
   "outputs": [],
   "source": []
  },
  {
   "cell_type": "code",
   "execution_count": 285,
   "id": "2fe342f7",
   "metadata": {},
   "outputs": [],
   "source": [
    "actual_price=[]\n",
    "for i in data1['new_car_detail']:\n",
    "    actual_price.append(i['priceActual'])\n"
   ]
  },
  {
   "cell_type": "code",
   "execution_count": null,
   "id": "cadcc29d",
   "metadata": {},
   "outputs": [],
   "source": []
  },
  {
   "cell_type": "code",
   "execution_count": 286,
   "id": "f4d1b42d",
   "metadata": {},
   "outputs": [],
   "source": [
    "\n",
    "data1['registration Year']=reg"
   ]
  },
  {
   "cell_type": "code",
   "execution_count": 287,
   "id": "300c3fa0",
   "metadata": {},
   "outputs": [],
   "source": [
    "data1['registration Year']=data1['registration Year'].str.extract(pat='(\\d+)', expand=False)"
   ]
  },
  {
   "cell_type": "code",
   "execution_count": 288,
   "id": "2283471b",
   "metadata": {},
   "outputs": [],
   "source": [
    "data1['insurance']=ins"
   ]
  },
  {
   "cell_type": "code",
   "execution_count": 289,
   "id": "096a5156",
   "metadata": {},
   "outputs": [],
   "source": [
    "data1['model']=model"
   ]
  },
  {
   "cell_type": "code",
   "execution_count": 290,
   "id": "7aa756e7",
   "metadata": {},
   "outputs": [],
   "source": [
    "data1['model_year']=model_year"
   ]
  },
  {
   "cell_type": "code",
   "execution_count": 291,
   "id": "e1347eda",
   "metadata": {},
   "outputs": [],
   "source": [
    "data1['Engine_type']=et"
   ]
  },
  {
   "cell_type": "code",
   "execution_count": 292,
   "id": "6d2d4d15",
   "metadata": {},
   "outputs": [],
   "source": [
    "data1['fuel_type']=ft"
   ]
  },
  {
   "cell_type": "code",
   "execution_count": 293,
   "id": "05e64a60",
   "metadata": {},
   "outputs": [],
   "source": [
    "data1['no_seats']=seat\n",
    "data1['no_seats']=data1['no_seats'].str.extract(pat='(\\d+)', expand=False)"
   ]
  },
  {
   "cell_type": "code",
   "execution_count": 294,
   "id": "eb5cc855",
   "metadata": {},
   "outputs": [],
   "source": [
    "data1['kms']=kms\n",
    "data1['kms']=data1['kms'].str.extract(pat='(\\d+)', expand=False)"
   ]
  },
  {
   "cell_type": "code",
   "execution_count": 295,
   "id": "195bd99f",
   "metadata": {},
   "outputs": [],
   "source": [
    "data1['milege']=milege\n",
    "data1['milege']=data1['milege'].str.extract(pat='(\\d+)', expand=False)"
   ]
  },
  {
   "cell_type": "code",
   "execution_count": 296,
   "id": "ac89f7b6",
   "metadata": {},
   "outputs": [],
   "source": [
    "data1['color']=color"
   ]
  },
  {
   "cell_type": "code",
   "execution_count": 297,
   "id": "d965a09a",
   "metadata": {},
   "outputs": [],
   "source": [
    "data1['owner_no']=owner"
   ]
  },
  {
   "cell_type": "code",
   "execution_count": 298,
   "id": "ea70df20",
   "metadata": {},
   "outputs": [],
   "source": [
    "data1['price']=price\n",
    "data1['price']=data1['price'].str.extract(pat='(\\d+)', expand=False)"
   ]
  },
  {
   "cell_type": "code",
   "execution_count": 299,
   "id": "f93f9813",
   "metadata": {},
   "outputs": [],
   "source": [
    "data1.drop(['new_car_detail','new_car_overview','new_car_feature','new_car_specs','car_links'],axis=1,inplace=True)"
   ]
  },
  {
   "cell_type": "code",
   "execution_count": 321,
   "id": "fa59353d",
   "metadata": {},
   "outputs": [
    {
     "data": {
      "text/html": [
       "<div>\n",
       "<style scoped>\n",
       "    .dataframe tbody tr th:only-of-type {\n",
       "        vertical-align: middle;\n",
       "    }\n",
       "\n",
       "    .dataframe tbody tr th {\n",
       "        vertical-align: top;\n",
       "    }\n",
       "\n",
       "    .dataframe thead th {\n",
       "        text-align: right;\n",
       "    }\n",
       "</style>\n",
       "<table border=\"1\" class=\"dataframe\">\n",
       "  <thead>\n",
       "    <tr style=\"text-align: right;\">\n",
       "      <th></th>\n",
       "      <th>registration Year</th>\n",
       "      <th>insurance</th>\n",
       "      <th>model</th>\n",
       "      <th>model_year</th>\n",
       "      <th>Engine_type</th>\n",
       "      <th>fuel_type</th>\n",
       "      <th>no_seats</th>\n",
       "      <th>kms</th>\n",
       "      <th>milege</th>\n",
       "      <th>color</th>\n",
       "      <th>owner_no</th>\n",
       "      <th>price</th>\n",
       "    </tr>\n",
       "  </thead>\n",
       "  <tbody>\n",
       "    <tr>\n",
       "      <th>0</th>\n",
       "      <td>2015</td>\n",
       "      <td>Third Party insurance</td>\n",
       "      <td>Maruti Celerio</td>\n",
       "      <td>2015</td>\n",
       "      <td>K10B Engine</td>\n",
       "      <td>Petrol</td>\n",
       "      <td>5</td>\n",
       "      <td>1</td>\n",
       "      <td>23</td>\n",
       "      <td>White</td>\n",
       "      <td>3</td>\n",
       "      <td>4</td>\n",
       "    </tr>\n",
       "    <tr>\n",
       "      <th>1</th>\n",
       "      <td>2018</td>\n",
       "      <td>Comprehensive</td>\n",
       "      <td>Ford Ecosport</td>\n",
       "      <td>2018</td>\n",
       "      <td>Ti-VCT Petrol Engine</td>\n",
       "      <td>Petrol</td>\n",
       "      <td>5</td>\n",
       "      <td>32</td>\n",
       "      <td>17</td>\n",
       "      <td>White</td>\n",
       "      <td>2</td>\n",
       "      <td>8</td>\n",
       "    </tr>\n",
       "    <tr>\n",
       "      <th>2</th>\n",
       "      <td>2018</td>\n",
       "      <td>Comprehensive</td>\n",
       "      <td>Tata Tiago</td>\n",
       "      <td>2018</td>\n",
       "      <td>Revotron Engine</td>\n",
       "      <td>Petrol</td>\n",
       "      <td>5</td>\n",
       "      <td>11</td>\n",
       "      <td>23</td>\n",
       "      <td>Red</td>\n",
       "      <td>1</td>\n",
       "      <td>5</td>\n",
       "    </tr>\n",
       "    <tr>\n",
       "      <th>3</th>\n",
       "      <td>2014</td>\n",
       "      <td>Comprehensive</td>\n",
       "      <td>Hyundai Xcent</td>\n",
       "      <td>2014</td>\n",
       "      <td>Kappa VTVT Petrol Engine</td>\n",
       "      <td>Petrol</td>\n",
       "      <td>5</td>\n",
       "      <td>17</td>\n",
       "      <td>19</td>\n",
       "      <td>Others</td>\n",
       "      <td>1</td>\n",
       "      <td>4</td>\n",
       "    </tr>\n",
       "    <tr>\n",
       "      <th>4</th>\n",
       "      <td>2015</td>\n",
       "      <td>Third Party insurance</td>\n",
       "      <td>Maruti SX4 S Cross</td>\n",
       "      <td>2015</td>\n",
       "      <td>DDiS 200 Diesel Engine</td>\n",
       "      <td>Diesel</td>\n",
       "      <td>5</td>\n",
       "      <td>60</td>\n",
       "      <td>23</td>\n",
       "      <td>Gray</td>\n",
       "      <td>1</td>\n",
       "      <td>7</td>\n",
       "    </tr>\n",
       "    <tr>\n",
       "      <th>...</th>\n",
       "      <td>...</td>\n",
       "      <td>...</td>\n",
       "      <td>...</td>\n",
       "      <td>...</td>\n",
       "      <td>...</td>\n",
       "      <td>...</td>\n",
       "      <td>...</td>\n",
       "      <td>...</td>\n",
       "      <td>...</td>\n",
       "      <td>...</td>\n",
       "      <td>...</td>\n",
       "      <td>...</td>\n",
       "    </tr>\n",
       "    <tr>\n",
       "      <th>1476</th>\n",
       "      <td>2012</td>\n",
       "      <td>Comprehensive</td>\n",
       "      <td>Toyota Fortuner</td>\n",
       "      <td>2012</td>\n",
       "      <td>D-4D Diesel Engine</td>\n",
       "      <td>Diesel</td>\n",
       "      <td>7</td>\n",
       "      <td>1</td>\n",
       "      <td>12</td>\n",
       "      <td>Blue</td>\n",
       "      <td>2</td>\n",
       "      <td>16</td>\n",
       "    </tr>\n",
       "    <tr>\n",
       "      <th>1477</th>\n",
       "      <td>2008</td>\n",
       "      <td>Third Party insurance</td>\n",
       "      <td>Maruti SX4</td>\n",
       "      <td>2008</td>\n",
       "      <td>In-Line Engine</td>\n",
       "      <td>Petrol</td>\n",
       "      <td>5</td>\n",
       "      <td>56</td>\n",
       "      <td>15</td>\n",
       "      <td>Red</td>\n",
       "      <td>2</td>\n",
       "      <td>3</td>\n",
       "    </tr>\n",
       "    <tr>\n",
       "      <th>1478</th>\n",
       "      <td>2014</td>\n",
       "      <td>Comprehensive</td>\n",
       "      <td>Honda Brio</td>\n",
       "      <td>2014</td>\n",
       "      <td>i-VTEC Engine</td>\n",
       "      <td>Petrol</td>\n",
       "      <td>5</td>\n",
       "      <td>42</td>\n",
       "      <td>19</td>\n",
       "      <td>White</td>\n",
       "      <td>2</td>\n",
       "      <td>4</td>\n",
       "    </tr>\n",
       "    <tr>\n",
       "      <th>1479</th>\n",
       "      <td>2018</td>\n",
       "      <td>Comprehensive</td>\n",
       "      <td>Hyundai i20</td>\n",
       "      <td>2018</td>\n",
       "      <td>U2 CRDI Diesel Engine</td>\n",
       "      <td>Diesel</td>\n",
       "      <td>5</td>\n",
       "      <td>93</td>\n",
       "      <td>22</td>\n",
       "      <td>Red</td>\n",
       "      <td>1</td>\n",
       "      <td>7</td>\n",
       "    </tr>\n",
       "    <tr>\n",
       "      <th>1480</th>\n",
       "      <td>2017</td>\n",
       "      <td>Comprehensive</td>\n",
       "      <td>Hyundai Grand i10</td>\n",
       "      <td>2017</td>\n",
       "      <td>Kappa VTVT Petrol Engine</td>\n",
       "      <td>Petrol</td>\n",
       "      <td>5</td>\n",
       "      <td>36</td>\n",
       "      <td>18</td>\n",
       "      <td>White</td>\n",
       "      <td>2</td>\n",
       "      <td>6</td>\n",
       "    </tr>\n",
       "  </tbody>\n",
       "</table>\n",
       "<p>1481 rows × 12 columns</p>\n",
       "</div>"
      ],
      "text/plain": [
       "     registration Year              insurance               model  model_year  \\\n",
       "0                 2015  Third Party insurance      Maruti Celerio        2015   \n",
       "1                 2018          Comprehensive       Ford Ecosport        2018   \n",
       "2                 2018          Comprehensive          Tata Tiago        2018   \n",
       "3                 2014          Comprehensive       Hyundai Xcent        2014   \n",
       "4                 2015  Third Party insurance  Maruti SX4 S Cross        2015   \n",
       "...                ...                    ...                 ...         ...   \n",
       "1476              2012          Comprehensive     Toyota Fortuner        2012   \n",
       "1477              2008  Third Party insurance          Maruti SX4        2008   \n",
       "1478              2014          Comprehensive          Honda Brio        2014   \n",
       "1479              2018          Comprehensive         Hyundai i20        2018   \n",
       "1480              2017          Comprehensive   Hyundai Grand i10        2017   \n",
       "\n",
       "                   Engine_type fuel_type no_seats kms milege   color  \\\n",
       "0                  K10B Engine    Petrol        5   1     23   White   \n",
       "1         Ti-VCT Petrol Engine    Petrol        5  32     17   White   \n",
       "2              Revotron Engine    Petrol        5  11     23     Red   \n",
       "3     Kappa VTVT Petrol Engine    Petrol        5  17     19  Others   \n",
       "4       DDiS 200 Diesel Engine    Diesel        5  60     23    Gray   \n",
       "...                        ...       ...      ...  ..    ...     ...   \n",
       "1476        D-4D Diesel Engine    Diesel        7   1     12    Blue   \n",
       "1477            In-Line Engine    Petrol        5  56     15     Red   \n",
       "1478             i-VTEC Engine    Petrol        5  42     19   White   \n",
       "1479     U2 CRDI Diesel Engine    Diesel        5  93     22     Red   \n",
       "1480  Kappa VTVT Petrol Engine    Petrol        5  36     18   White   \n",
       "\n",
       "      owner_no price  \n",
       "0            3     4  \n",
       "1            2     8  \n",
       "2            1     5  \n",
       "3            1     4  \n",
       "4            1     7  \n",
       "...        ...   ...  \n",
       "1476         2    16  \n",
       "1477         2     3  \n",
       "1478         2     4  \n",
       "1479         1     7  \n",
       "1480         2     6  \n",
       "\n",
       "[1481 rows x 12 columns]"
      ]
     },
     "execution_count": 321,
     "metadata": {},
     "output_type": "execute_result"
    }
   ],
   "source": [
    "data1"
   ]
  },
  {
   "cell_type": "code",
   "execution_count": null,
   "id": "005855a6",
   "metadata": {},
   "outputs": [],
   "source": []
  },
  {
   "cell_type": "code",
   "execution_count": null,
   "id": "32f13e86",
   "metadata": {},
   "outputs": [],
   "source": []
  },
  {
   "cell_type": "code",
   "execution_count": null,
   "id": "a525986e",
   "metadata": {},
   "outputs": [],
   "source": []
  },
  {
   "cell_type": "code",
   "execution_count": 300,
   "id": "bb67036b",
   "metadata": {},
   "outputs": [],
   "source": [
    "data2=pd.read_excel('chennai_cars.xlsx')"
   ]
  },
  {
   "cell_type": "code",
   "execution_count": 301,
   "id": "f4dd9ba4",
   "metadata": {},
   "outputs": [],
   "source": [
    "data2['new_car_overview'] = data2.new_car_overview.apply(eval)"
   ]
  },
  {
   "cell_type": "code",
   "execution_count": 302,
   "id": "d373163c",
   "metadata": {},
   "outputs": [],
   "source": [
    "data2['new_car_specs'] = data2.new_car_specs.apply(eval)"
   ]
  },
  {
   "cell_type": "code",
   "execution_count": 303,
   "id": "9c77e9eb",
   "metadata": {},
   "outputs": [],
   "source": [
    "data2['new_car_detail'] = data2.new_car_detail.apply(eval)"
   ]
  },
  {
   "cell_type": "code",
   "execution_count": 304,
   "id": "d75a95ea",
   "metadata": {},
   "outputs": [],
   "source": [
    "data2['feature'] = data2.new_car_feature.apply(eval)"
   ]
  },
  {
   "cell_type": "code",
   "execution_count": 305,
   "id": "fa7ffa13",
   "metadata": {},
   "outputs": [],
   "source": [
    "reg=[]\n",
    "for i in data2['new_car_overview']:\n",
    "    reg.append(i['top'][0]['value'])"
   ]
  },
  {
   "cell_type": "code",
   "execution_count": 306,
   "id": "1e50e738",
   "metadata": {},
   "outputs": [],
   "source": [
    "ins=[]\n",
    "for i in data2['new_car_overview']:\n",
    "    ins.append(i['top'][1]['value'])"
   ]
  },
  {
   "cell_type": "code",
   "execution_count": 307,
   "id": "04085d51",
   "metadata": {},
   "outputs": [],
   "source": [
    "ft=[]\n",
    "for i in data2['new_car_overview']:\n",
    "    ft.append(i['top'][2]['value'])"
   ]
  },
  {
   "cell_type": "code",
   "execution_count": 308,
   "id": "3a86e0ae",
   "metadata": {},
   "outputs": [],
   "source": [
    "seat=[]\n",
    "for i in data2['new_car_overview']:\n",
    "    seat.append(i['top'][3]['value'])"
   ]
  },
  {
   "cell_type": "code",
   "execution_count": 309,
   "id": "428ed779",
   "metadata": {},
   "outputs": [],
   "source": [
    "kms=[]\n",
    "for i in data2['new_car_overview']:\n",
    "    kms.append(i['top'][4]['value'])"
   ]
  },
  {
   "cell_type": "code",
   "execution_count": 310,
   "id": "24f7c2d0",
   "metadata": {},
   "outputs": [],
   "source": [
    "model=[]\n",
    "for i in data2['new_car_detail']:\n",
    "    model.append(i['model'])"
   ]
  },
  {
   "cell_type": "code",
   "execution_count": 311,
   "id": "701fdb69",
   "metadata": {},
   "outputs": [],
   "source": [
    "owner=[]\n",
    "for i in data2['new_car_detail']:\n",
    "    owner.append(i['ownerNo'])"
   ]
  },
  {
   "cell_type": "code",
   "execution_count": 312,
   "id": "956d1188",
   "metadata": {},
   "outputs": [],
   "source": [
    "model_year=[]\n",
    "for i in data2['new_car_detail']:\n",
    "    model_year.append(i['modelYear'])\n"
   ]
  },
  {
   "cell_type": "code",
   "execution_count": 313,
   "id": "ed740bb8",
   "metadata": {},
   "outputs": [],
   "source": [
    "color=[]\n",
    "for i in data2['new_car_specs']:\n",
    "    color.append(i['data'][0]['list'][0]['value'])"
   ]
  },
  {
   "cell_type": "code",
   "execution_count": 314,
   "id": "e371421c",
   "metadata": {},
   "outputs": [],
   "source": [
    "et=[]\n",
    "for i in data2['new_car_specs']:\n",
    "    et.append(i['data'][0]['list'][1]['value'])\n"
   ]
  },
  {
   "cell_type": "code",
   "execution_count": 315,
   "id": "c13ec926",
   "metadata": {},
   "outputs": [],
   "source": [
    "milege=[]\n",
    "for i in data2['new_car_specs']:\n",
    "    milege.append(i['top'][0]['value'])"
   ]
  },
  {
   "cell_type": "code",
   "execution_count": 316,
   "id": "f310c70a",
   "metadata": {},
   "outputs": [],
   "source": [
    "price=[]\n",
    "for i in data2['new_car_detail']:\n",
    "    price.append(i['price'])\n"
   ]
  },
  {
   "cell_type": "code",
   "execution_count": 317,
   "id": "9e76f9fc",
   "metadata": {},
   "outputs": [],
   "source": [
    "data2['registration Year']=reg\n",
    "data2['registration Year']=data2['registration Year'].str.extract(pat='(\\d+)', expand=False)\n",
    "data2['insurance']=ins\n",
    "data2['model']=model\n",
    "data2['model_year']=model_year\n",
    "data2['Engine_type']=et\n",
    "data2['fuel_type']=ft\n",
    "data2['no_seats']=seat\n",
    "data2['no_seats']=data2['no_seats'].str.extract(pat='(\\d+)', expand=False)\n",
    "data2['kms']=kms\n",
    "data2['kms']=data2['kms'].str.extract(pat='(\\d+)', expand=False)\n",
    "data2['milege']=milege\n",
    "data2['milege']=data2['milege'].str.extract(pat='(\\d+)', expand=False)\n",
    "data2['color']=color\n",
    "data2['owner_no']=owner\n",
    "data2['price']=price\n",
    "data2['price']=data2['price'].str.extract(pat='(\\d+)', expand=False)"
   ]
  },
  {
   "cell_type": "code",
   "execution_count": 318,
   "id": "9ddd5d65",
   "metadata": {},
   "outputs": [],
   "source": [
    "data2.drop(['new_car_detail','new_car_overview','new_car_feature','new_car_specs','car_links'],axis=1,inplace=True)"
   ]
  },
  {
   "cell_type": "code",
   "execution_count": 319,
   "id": "afffd3c4",
   "metadata": {},
   "outputs": [],
   "source": [
    "data2.drop('feature',axis=1,inplace=True)"
   ]
  },
  {
   "cell_type": "code",
   "execution_count": 320,
   "id": "bca8fddc",
   "metadata": {},
   "outputs": [
    {
     "data": {
      "text/html": [
       "<div>\n",
       "<style scoped>\n",
       "    .dataframe tbody tr th:only-of-type {\n",
       "        vertical-align: middle;\n",
       "    }\n",
       "\n",
       "    .dataframe tbody tr th {\n",
       "        vertical-align: top;\n",
       "    }\n",
       "\n",
       "    .dataframe thead th {\n",
       "        text-align: right;\n",
       "    }\n",
       "</style>\n",
       "<table border=\"1\" class=\"dataframe\">\n",
       "  <thead>\n",
       "    <tr style=\"text-align: right;\">\n",
       "      <th></th>\n",
       "      <th>registration Year</th>\n",
       "      <th>insurance</th>\n",
       "      <th>model</th>\n",
       "      <th>model_year</th>\n",
       "      <th>Engine_type</th>\n",
       "      <th>fuel_type</th>\n",
       "      <th>no_seats</th>\n",
       "      <th>kms</th>\n",
       "      <th>milege</th>\n",
       "      <th>color</th>\n",
       "      <th>owner_no</th>\n",
       "      <th>price</th>\n",
       "    </tr>\n",
       "  </thead>\n",
       "  <tbody>\n",
       "    <tr>\n",
       "      <th>0</th>\n",
       "      <td>2022</td>\n",
       "      <td>Third Party insurance</td>\n",
       "      <td>Kia Sonet</td>\n",
       "      <td>2022</td>\n",
       "      <td>Smartstream G1.0 T - GDi</td>\n",
       "      <td>Petrol</td>\n",
       "      <td>5</td>\n",
       "      <td>20</td>\n",
       "      <td>998</td>\n",
       "      <td>Black</td>\n",
       "      <td>1</td>\n",
       "      <td>11</td>\n",
       "    </tr>\n",
       "    <tr>\n",
       "      <th>1</th>\n",
       "      <td>2015</td>\n",
       "      <td>Comprehensive</td>\n",
       "      <td>Maruti Eeco</td>\n",
       "      <td>2015</td>\n",
       "      <td>In-Line Engine</td>\n",
       "      <td>Petrol</td>\n",
       "      <td>7</td>\n",
       "      <td>20</td>\n",
       "      <td>15</td>\n",
       "      <td>Grey</td>\n",
       "      <td>1</td>\n",
       "      <td>4</td>\n",
       "    </tr>\n",
       "    <tr>\n",
       "      <th>2</th>\n",
       "      <td>2021</td>\n",
       "      <td>Third Party insurance</td>\n",
       "      <td>Nissan Magnite</td>\n",
       "      <td>2021</td>\n",
       "      <td>HRA0 1.0 TURBO PETROL</td>\n",
       "      <td>Petrol</td>\n",
       "      <td>5</td>\n",
       "      <td>30</td>\n",
       "      <td>20</td>\n",
       "      <td>Others</td>\n",
       "      <td>1</td>\n",
       "      <td>7</td>\n",
       "    </tr>\n",
       "    <tr>\n",
       "      <th>3</th>\n",
       "      <td>2015</td>\n",
       "      <td>Comprehensive</td>\n",
       "      <td>Hyundai i10</td>\n",
       "      <td>2015</td>\n",
       "      <td>IRDE2 Engine</td>\n",
       "      <td>Petrol</td>\n",
       "      <td>5</td>\n",
       "      <td>59</td>\n",
       "      <td>19</td>\n",
       "      <td>Silver</td>\n",
       "      <td>1</td>\n",
       "      <td>3</td>\n",
       "    </tr>\n",
       "    <tr>\n",
       "      <th>4</th>\n",
       "      <td>2015</td>\n",
       "      <td>Third Party insurance</td>\n",
       "      <td>Honda Jazz</td>\n",
       "      <td>2015</td>\n",
       "      <td>i-VTEC Petrol Engine</td>\n",
       "      <td>Petrol</td>\n",
       "      <td>5</td>\n",
       "      <td>50</td>\n",
       "      <td>18</td>\n",
       "      <td>Others</td>\n",
       "      <td>1</td>\n",
       "      <td>5</td>\n",
       "    </tr>\n",
       "    <tr>\n",
       "      <th>...</th>\n",
       "      <td>...</td>\n",
       "      <td>...</td>\n",
       "      <td>...</td>\n",
       "      <td>...</td>\n",
       "      <td>...</td>\n",
       "      <td>...</td>\n",
       "      <td>...</td>\n",
       "      <td>...</td>\n",
       "      <td>...</td>\n",
       "      <td>...</td>\n",
       "      <td>...</td>\n",
       "      <td>...</td>\n",
       "    </tr>\n",
       "    <tr>\n",
       "      <th>1414</th>\n",
       "      <td>2018</td>\n",
       "      <td>Third Party insurance</td>\n",
       "      <td>Maruti Swift</td>\n",
       "      <td>2018</td>\n",
       "      <td>VTVT Engine</td>\n",
       "      <td>Petrol</td>\n",
       "      <td>5</td>\n",
       "      <td>42</td>\n",
       "      <td>22</td>\n",
       "      <td>Blue</td>\n",
       "      <td>1</td>\n",
       "      <td>6</td>\n",
       "    </tr>\n",
       "    <tr>\n",
       "      <th>1415</th>\n",
       "      <td>2019</td>\n",
       "      <td>Third Party insurance</td>\n",
       "      <td>Renault Duster</td>\n",
       "      <td>2018</td>\n",
       "      <td>dCi THP Diesel Engine</td>\n",
       "      <td>Diesel</td>\n",
       "      <td>5</td>\n",
       "      <td>59</td>\n",
       "      <td>19</td>\n",
       "      <td>Orange</td>\n",
       "      <td>1</td>\n",
       "      <td>8</td>\n",
       "    </tr>\n",
       "    <tr>\n",
       "      <th>1416</th>\n",
       "      <td>2018</td>\n",
       "      <td>Not Available</td>\n",
       "      <td>Tata Nexon</td>\n",
       "      <td>2018</td>\n",
       "      <td>Revotron 1.2L Turbocharged engine</td>\n",
       "      <td>Petrol</td>\n",
       "      <td>5</td>\n",
       "      <td>55</td>\n",
       "      <td>17</td>\n",
       "      <td>White</td>\n",
       "      <td>1</td>\n",
       "      <td>8</td>\n",
       "    </tr>\n",
       "    <tr>\n",
       "      <th>1417</th>\n",
       "      <td>2017</td>\n",
       "      <td>Comprehensive</td>\n",
       "      <td>Volkswagen Tiguan</td>\n",
       "      <td>2017</td>\n",
       "      <td>Common Rail Direct Injection</td>\n",
       "      <td>Diesel</td>\n",
       "      <td>5</td>\n",
       "      <td>65</td>\n",
       "      <td>16</td>\n",
       "      <td>Grey</td>\n",
       "      <td>1</td>\n",
       "      <td>20</td>\n",
       "    </tr>\n",
       "    <tr>\n",
       "      <th>1418</th>\n",
       "      <td>2019</td>\n",
       "      <td>Comprehensive</td>\n",
       "      <td>BMW 3 Series GT</td>\n",
       "      <td>2019</td>\n",
       "      <td>TwinPower Turbo 4-Cylinder Diesel Engine</td>\n",
       "      <td>Diesel</td>\n",
       "      <td>5</td>\n",
       "      <td>60</td>\n",
       "      <td>21</td>\n",
       "      <td>White</td>\n",
       "      <td>1</td>\n",
       "      <td>35</td>\n",
       "    </tr>\n",
       "  </tbody>\n",
       "</table>\n",
       "<p>1419 rows × 12 columns</p>\n",
       "</div>"
      ],
      "text/plain": [
       "     registration Year              insurance              model  model_year  \\\n",
       "0                 2022  Third Party insurance          Kia Sonet        2022   \n",
       "1                 2015          Comprehensive        Maruti Eeco        2015   \n",
       "2                 2021  Third Party insurance     Nissan Magnite        2021   \n",
       "3                 2015          Comprehensive        Hyundai i10        2015   \n",
       "4                 2015  Third Party insurance         Honda Jazz        2015   \n",
       "...                ...                    ...                ...         ...   \n",
       "1414              2018  Third Party insurance       Maruti Swift        2018   \n",
       "1415              2019  Third Party insurance     Renault Duster        2018   \n",
       "1416              2018          Not Available         Tata Nexon        2018   \n",
       "1417              2017          Comprehensive  Volkswagen Tiguan        2017   \n",
       "1418              2019          Comprehensive    BMW 3 Series GT        2019   \n",
       "\n",
       "                                   Engine_type fuel_type no_seats kms milege  \\\n",
       "0                     Smartstream G1.0 T - GDi    Petrol        5  20    998   \n",
       "1                               In-Line Engine    Petrol        7  20     15   \n",
       "2                        HRA0 1.0 TURBO PETROL    Petrol        5  30     20   \n",
       "3                                 IRDE2 Engine    Petrol        5  59     19   \n",
       "4                         i-VTEC Petrol Engine    Petrol        5  50     18   \n",
       "...                                        ...       ...      ...  ..    ...   \n",
       "1414                               VTVT Engine    Petrol        5  42     22   \n",
       "1415                     dCi THP Diesel Engine    Diesel        5  59     19   \n",
       "1416         Revotron 1.2L Turbocharged engine    Petrol        5  55     17   \n",
       "1417              Common Rail Direct Injection    Diesel        5  65     16   \n",
       "1418  TwinPower Turbo 4-Cylinder Diesel Engine    Diesel        5  60     21   \n",
       "\n",
       "       color  owner_no price  \n",
       "0      Black         1    11  \n",
       "1       Grey         1     4  \n",
       "2     Others         1     7  \n",
       "3     Silver         1     3  \n",
       "4     Others         1     5  \n",
       "...      ...       ...   ...  \n",
       "1414    Blue         1     6  \n",
       "1415  Orange         1     8  \n",
       "1416   White         1     8  \n",
       "1417    Grey         1    20  \n",
       "1418   White         1    35  \n",
       "\n",
       "[1419 rows x 12 columns]"
      ]
     },
     "execution_count": 320,
     "metadata": {},
     "output_type": "execute_result"
    }
   ],
   "source": [
    "data2"
   ]
  },
  {
   "cell_type": "code",
   "execution_count": 322,
   "id": "e86c6773",
   "metadata": {},
   "outputs": [],
   "source": [
    "data3=pd.read_excel('hyderabad_cars.xlsx')\n"
   ]
  },
  {
   "cell_type": "code",
   "execution_count": 323,
   "id": "ec63c755",
   "metadata": {},
   "outputs": [],
   "source": [
    "data3['new_car_overview'] = data3.new_car_overview.apply(eval)\n",
    "data3['new_car_specs'] = data3.new_car_specs.apply(eval)\n",
    "data3['new_car_detail'] = data3.new_car_detail.apply(eval)\n",
    "data3['feature'] = data3.new_car_feature.apply(eval)"
   ]
  },
  {
   "cell_type": "code",
   "execution_count": 324,
   "id": "de8c9859",
   "metadata": {},
   "outputs": [],
   "source": [
    "reg=[]\n",
    "for i in data3['new_car_overview']:\n",
    "    reg.append(i['top'][0]['value'])"
   ]
  },
  {
   "cell_type": "code",
   "execution_count": 325,
   "id": "347c9790",
   "metadata": {},
   "outputs": [],
   "source": [
    "ins=[]\n",
    "for i in data3['new_car_overview']:\n",
    "    ins.append(i['top'][1]['value'])"
   ]
  },
  {
   "cell_type": "code",
   "execution_count": 326,
   "id": "62291728",
   "metadata": {},
   "outputs": [],
   "source": [
    "ft=[]\n",
    "for i in data3['new_car_overview']:\n",
    "    ft.append(i['top'][2]['value'])"
   ]
  },
  {
   "cell_type": "code",
   "execution_count": 327,
   "id": "8b8a87e1",
   "metadata": {},
   "outputs": [],
   "source": [
    "seat=[]\n",
    "for i in data3['new_car_overview']:\n",
    "    seat.append(i['top'][3]['value'])"
   ]
  },
  {
   "cell_type": "code",
   "execution_count": 328,
   "id": "7ead9c81",
   "metadata": {},
   "outputs": [],
   "source": [
    "kms=[]\n",
    "for i in data3['new_car_overview']:\n",
    "    kms.append(i['top'][4]['value'])"
   ]
  },
  {
   "cell_type": "code",
   "execution_count": 329,
   "id": "8429f52d",
   "metadata": {},
   "outputs": [],
   "source": [
    "model=[]\n",
    "for i in data3['new_car_detail']:\n",
    "    model.append(i['model'])"
   ]
  },
  {
   "cell_type": "code",
   "execution_count": 330,
   "id": "2b93e0d7",
   "metadata": {},
   "outputs": [],
   "source": [
    "owner=[]\n",
    "for i in data3['new_car_detail']:\n",
    "    owner.append(i['ownerNo'])"
   ]
  },
  {
   "cell_type": "code",
   "execution_count": 331,
   "id": "78af6fdf",
   "metadata": {},
   "outputs": [],
   "source": [
    "model_year=[]\n",
    "for i in data3['new_car_detail']:\n",
    "    model_year.append(i['modelYear'])\n"
   ]
  },
  {
   "cell_type": "code",
   "execution_count": 332,
   "id": "f1f5aa96",
   "metadata": {},
   "outputs": [],
   "source": [
    "color=[]\n",
    "for i in data3['new_car_specs']:\n",
    "    color.append(i['data'][0]['list'][0]['value'])"
   ]
  },
  {
   "cell_type": "code",
   "execution_count": 333,
   "id": "219c0aba",
   "metadata": {},
   "outputs": [],
   "source": [
    "et=[]\n",
    "for i in data3['new_car_specs']:\n",
    "    et.append(i['data'][0]['list'][1]['value'])\n"
   ]
  },
  {
   "cell_type": "code",
   "execution_count": 334,
   "id": "9af4e07c",
   "metadata": {},
   "outputs": [],
   "source": [
    "milege=[]\n",
    "for i in data3['new_car_specs']:\n",
    "    milege.append(i['top'][0]['value'])"
   ]
  },
  {
   "cell_type": "code",
   "execution_count": 335,
   "id": "5053d328",
   "metadata": {},
   "outputs": [],
   "source": [
    "price=[]\n",
    "for i in data3['new_car_detail']:\n",
    "    price.append(i['price'])\n"
   ]
  },
  {
   "cell_type": "code",
   "execution_count": 336,
   "id": "ab25cc65",
   "metadata": {},
   "outputs": [],
   "source": [
    "data3['registration Year']=reg\n",
    "data3['registration Year']=data3['registration Year'].str.extract(pat='(\\d+)', expand=False)\n",
    "data3['insurance']=ins\n",
    "data3['model']=model\n",
    "data3['model_year']=model_year\n",
    "data3['Engine_type']=et\n",
    "data3['fuel_type']=ft\n",
    "data3['no_seats']=seat\n",
    "data3['no_seats']=data3['no_seats'].str.extract(pat='(\\d+)', expand=False)\n",
    "data3['kms']=kms\n",
    "data3['kms']=data3['kms'].str.extract(pat='(\\d+)', expand=False)\n",
    "data3['milege']=milege\n",
    "data3['milege']=data3['milege'].str.extract(pat='(\\d+)', expand=False)\n",
    "data3['color']=color\n",
    "data3['owner_no']=owner\n",
    "data3['price']=price\n",
    "data3['price']=data3['price'].str.extract(pat='(\\d+)', expand=False)"
   ]
  },
  {
   "cell_type": "code",
   "execution_count": 337,
   "id": "29e5797e",
   "metadata": {},
   "outputs": [],
   "source": [
    "data3.drop(['new_car_detail','new_car_overview','new_car_feature','new_car_specs','car_links'],axis=1,inplace=True)"
   ]
  },
  {
   "cell_type": "code",
   "execution_count": 338,
   "id": "b30bcf9e",
   "metadata": {},
   "outputs": [],
   "source": [
    "data3.drop('feature',axis=1,inplace=True)"
   ]
  },
  {
   "cell_type": "code",
   "execution_count": 339,
   "id": "112608f6",
   "metadata": {},
   "outputs": [
    {
     "data": {
      "text/html": [
       "<div>\n",
       "<style scoped>\n",
       "    .dataframe tbody tr th:only-of-type {\n",
       "        vertical-align: middle;\n",
       "    }\n",
       "\n",
       "    .dataframe tbody tr th {\n",
       "        vertical-align: top;\n",
       "    }\n",
       "\n",
       "    .dataframe thead th {\n",
       "        text-align: right;\n",
       "    }\n",
       "</style>\n",
       "<table border=\"1\" class=\"dataframe\">\n",
       "  <thead>\n",
       "    <tr style=\"text-align: right;\">\n",
       "      <th></th>\n",
       "      <th>registration Year</th>\n",
       "      <th>insurance</th>\n",
       "      <th>model</th>\n",
       "      <th>model_year</th>\n",
       "      <th>Engine_type</th>\n",
       "      <th>fuel_type</th>\n",
       "      <th>no_seats</th>\n",
       "      <th>kms</th>\n",
       "      <th>milege</th>\n",
       "      <th>color</th>\n",
       "      <th>owner_no</th>\n",
       "      <th>price</th>\n",
       "    </tr>\n",
       "  </thead>\n",
       "  <tbody>\n",
       "    <tr>\n",
       "      <th>0</th>\n",
       "      <td>2022</td>\n",
       "      <td>Third Party insurance</td>\n",
       "      <td>Volkswagen Polo</td>\n",
       "      <td>2022</td>\n",
       "      <td>1.0L TSI Petrol</td>\n",
       "      <td>Petrol</td>\n",
       "      <td>5</td>\n",
       "      <td>20</td>\n",
       "      <td>16</td>\n",
       "      <td>Others</td>\n",
       "      <td>1</td>\n",
       "      <td>10</td>\n",
       "    </tr>\n",
       "    <tr>\n",
       "      <th>1</th>\n",
       "      <td>2014</td>\n",
       "      <td>Third Party insurance</td>\n",
       "      <td>Hyundai EON</td>\n",
       "      <td>2014</td>\n",
       "      <td>Petrol Engine</td>\n",
       "      <td>Petrol</td>\n",
       "      <td>5</td>\n",
       "      <td>85</td>\n",
       "      <td>21</td>\n",
       "      <td>Red</td>\n",
       "      <td>2</td>\n",
       "      <td>2</td>\n",
       "    </tr>\n",
       "    <tr>\n",
       "      <th>2</th>\n",
       "      <td>2023</td>\n",
       "      <td>Third Party insurance</td>\n",
       "      <td>Hyundai Venue</td>\n",
       "      <td>2023</td>\n",
       "      <td>1.2 Kappa Petrol</td>\n",
       "      <td>Petrol</td>\n",
       "      <td>5</td>\n",
       "      <td>10</td>\n",
       "      <td>1197</td>\n",
       "      <td>Others</td>\n",
       "      <td>1</td>\n",
       "      <td>9</td>\n",
       "    </tr>\n",
       "    <tr>\n",
       "      <th>3</th>\n",
       "      <td>2017</td>\n",
       "      <td>Third Party insurance</td>\n",
       "      <td>Maruti Baleno</td>\n",
       "      <td>2017</td>\n",
       "      <td>VVT Petrol Engine</td>\n",
       "      <td>Petrol</td>\n",
       "      <td>5</td>\n",
       "      <td>50</td>\n",
       "      <td>21</td>\n",
       "      <td>Red</td>\n",
       "      <td>1</td>\n",
       "      <td>6</td>\n",
       "    </tr>\n",
       "    <tr>\n",
       "      <th>4</th>\n",
       "      <td>2022</td>\n",
       "      <td>Third Party insurance</td>\n",
       "      <td>Mahindra Thar</td>\n",
       "      <td>2022</td>\n",
       "      <td>mStallion 150 TGDi Engine</td>\n",
       "      <td>Petrol</td>\n",
       "      <td>4</td>\n",
       "      <td>10</td>\n",
       "      <td>1997</td>\n",
       "      <td>Others</td>\n",
       "      <td>1</td>\n",
       "      <td>19</td>\n",
       "    </tr>\n",
       "    <tr>\n",
       "      <th>...</th>\n",
       "      <td>...</td>\n",
       "      <td>...</td>\n",
       "      <td>...</td>\n",
       "      <td>...</td>\n",
       "      <td>...</td>\n",
       "      <td>...</td>\n",
       "      <td>...</td>\n",
       "      <td>...</td>\n",
       "      <td>...</td>\n",
       "      <td>...</td>\n",
       "      <td>...</td>\n",
       "      <td>...</td>\n",
       "    </tr>\n",
       "    <tr>\n",
       "      <th>1478</th>\n",
       "      <td>2013</td>\n",
       "      <td>Third Party insurance</td>\n",
       "      <td>Mahindra XUV500</td>\n",
       "      <td>2013</td>\n",
       "      <td>mHawk Diesel Engine</td>\n",
       "      <td>Diesel</td>\n",
       "      <td>7</td>\n",
       "      <td>60</td>\n",
       "      <td>15</td>\n",
       "      <td>Others</td>\n",
       "      <td>1</td>\n",
       "      <td>7</td>\n",
       "    </tr>\n",
       "    <tr>\n",
       "      <th>1479</th>\n",
       "      <td>2014</td>\n",
       "      <td>Third Party insurance</td>\n",
       "      <td>Jaguar XF</td>\n",
       "      <td>2014</td>\n",
       "      <td>Diesel S Engine</td>\n",
       "      <td>Diesel</td>\n",
       "      <td>5</td>\n",
       "      <td>50</td>\n",
       "      <td>14</td>\n",
       "      <td>Blue</td>\n",
       "      <td>1</td>\n",
       "      <td>20</td>\n",
       "    </tr>\n",
       "    <tr>\n",
       "      <th>1480</th>\n",
       "      <td>2018</td>\n",
       "      <td>Third Party insurance</td>\n",
       "      <td>BMW 5 Series</td>\n",
       "      <td>2018</td>\n",
       "      <td>TwinPower Turbo Inline 4 Cylinder Engine</td>\n",
       "      <td>Diesel</td>\n",
       "      <td>5</td>\n",
       "      <td>1</td>\n",
       "      <td>20</td>\n",
       "      <td>Blue</td>\n",
       "      <td>3</td>\n",
       "      <td>35</td>\n",
       "    </tr>\n",
       "    <tr>\n",
       "      <th>1481</th>\n",
       "      <td>2019</td>\n",
       "      <td>Third Party insurance</td>\n",
       "      <td>Tata Nexon</td>\n",
       "      <td>2019</td>\n",
       "      <td>Revotorq, 1.5L Turbocharged engine</td>\n",
       "      <td>Diesel</td>\n",
       "      <td>5</td>\n",
       "      <td>50</td>\n",
       "      <td>21</td>\n",
       "      <td>Others</td>\n",
       "      <td>2</td>\n",
       "      <td>8</td>\n",
       "    </tr>\n",
       "    <tr>\n",
       "      <th>1482</th>\n",
       "      <td>2015</td>\n",
       "      <td>Third Party insurance</td>\n",
       "      <td>Toyota Innova</td>\n",
       "      <td>2015</td>\n",
       "      <td>2KD-FTV Diesel Engine</td>\n",
       "      <td>Diesel</td>\n",
       "      <td>7</td>\n",
       "      <td>1</td>\n",
       "      <td>12</td>\n",
       "      <td>Others</td>\n",
       "      <td>1</td>\n",
       "      <td>15</td>\n",
       "    </tr>\n",
       "  </tbody>\n",
       "</table>\n",
       "<p>1483 rows × 12 columns</p>\n",
       "</div>"
      ],
      "text/plain": [
       "     registration Year              insurance            model  model_year  \\\n",
       "0                 2022  Third Party insurance  Volkswagen Polo        2022   \n",
       "1                 2014  Third Party insurance      Hyundai EON        2014   \n",
       "2                 2023  Third Party insurance    Hyundai Venue        2023   \n",
       "3                 2017  Third Party insurance    Maruti Baleno        2017   \n",
       "4                 2022  Third Party insurance    Mahindra Thar        2022   \n",
       "...                ...                    ...              ...         ...   \n",
       "1478              2013  Third Party insurance  Mahindra XUV500        2013   \n",
       "1479              2014  Third Party insurance        Jaguar XF        2014   \n",
       "1480              2018  Third Party insurance     BMW 5 Series        2018   \n",
       "1481              2019  Third Party insurance       Tata Nexon        2019   \n",
       "1482              2015  Third Party insurance    Toyota Innova        2015   \n",
       "\n",
       "                                   Engine_type fuel_type no_seats kms milege  \\\n",
       "0                              1.0L TSI Petrol    Petrol        5  20     16   \n",
       "1                                Petrol Engine    Petrol        5  85     21   \n",
       "2                             1.2 Kappa Petrol    Petrol        5  10   1197   \n",
       "3                            VVT Petrol Engine    Petrol        5  50     21   \n",
       "4                    mStallion 150 TGDi Engine    Petrol        4  10   1997   \n",
       "...                                        ...       ...      ...  ..    ...   \n",
       "1478                       mHawk Diesel Engine    Diesel        7  60     15   \n",
       "1479                           Diesel S Engine    Diesel        5  50     14   \n",
       "1480  TwinPower Turbo Inline 4 Cylinder Engine    Diesel        5   1     20   \n",
       "1481        Revotorq, 1.5L Turbocharged engine    Diesel        5  50     21   \n",
       "1482                     2KD-FTV Diesel Engine    Diesel        7   1     12   \n",
       "\n",
       "       color  owner_no price  \n",
       "0     Others         1    10  \n",
       "1        Red         2     2  \n",
       "2     Others         1     9  \n",
       "3        Red         1     6  \n",
       "4     Others         1    19  \n",
       "...      ...       ...   ...  \n",
       "1478  Others         1     7  \n",
       "1479    Blue         1    20  \n",
       "1480    Blue         3    35  \n",
       "1481  Others         2     8  \n",
       "1482  Others         1    15  \n",
       "\n",
       "[1483 rows x 12 columns]"
      ]
     },
     "execution_count": 339,
     "metadata": {},
     "output_type": "execute_result"
    }
   ],
   "source": [
    "data3"
   ]
  },
  {
   "cell_type": "code",
   "execution_count": 340,
   "id": "9eae303b",
   "metadata": {},
   "outputs": [],
   "source": [
    "data4=pd.read_excel('kolkata_cars.xlsx')\n"
   ]
  },
  {
   "cell_type": "code",
   "execution_count": 341,
   "id": "fea8a8ae",
   "metadata": {},
   "outputs": [],
   "source": [
    "data4['new_car_overview'] = data4.new_car_overview.apply(eval)\n",
    "data4['new_car_specs'] = data4.new_car_specs.apply(eval)\n",
    "data4['new_car_detail'] = data4.new_car_detail.apply(eval)\n",
    "data4['feature'] = data4.new_car_feature.apply(eval)"
   ]
  },
  {
   "cell_type": "code",
   "execution_count": 342,
   "id": "182a67b1",
   "metadata": {},
   "outputs": [],
   "source": [
    "reg=[]\n",
    "for i in data4['new_car_overview']:\n",
    "    reg.append(i['top'][0]['value'])"
   ]
  },
  {
   "cell_type": "code",
   "execution_count": 343,
   "id": "fde5bcce",
   "metadata": {},
   "outputs": [],
   "source": [
    "ins=[]\n",
    "for i in data4['new_car_overview']:\n",
    "    ins.append(i['top'][1]['value'])"
   ]
  },
  {
   "cell_type": "code",
   "execution_count": 344,
   "id": "aef74221",
   "metadata": {},
   "outputs": [],
   "source": [
    "ft=[]\n",
    "for i in data4['new_car_overview']:\n",
    "    ft.append(i['top'][2]['value'])"
   ]
  },
  {
   "cell_type": "code",
   "execution_count": 345,
   "id": "dcf1760f",
   "metadata": {},
   "outputs": [],
   "source": [
    "seat=[]\n",
    "for i in data4['new_car_overview']:\n",
    "    seat.append(i['top'][3]['value'])"
   ]
  },
  {
   "cell_type": "code",
   "execution_count": 346,
   "id": "9c2ec21d",
   "metadata": {},
   "outputs": [],
   "source": [
    "kms=[]\n",
    "for i in data4['new_car_overview']:\n",
    "    kms.append(i['top'][4]['value'])"
   ]
  },
  {
   "cell_type": "code",
   "execution_count": 347,
   "id": "4a748e00",
   "metadata": {},
   "outputs": [],
   "source": [
    "model=[]\n",
    "for i in data4['new_car_detail']:\n",
    "    model.append(i['model'])"
   ]
  },
  {
   "cell_type": "code",
   "execution_count": 348,
   "id": "2d3ca73e",
   "metadata": {},
   "outputs": [],
   "source": [
    "owner=[]\n",
    "for i in data4['new_car_detail']:\n",
    "    owner.append(i['ownerNo'])"
   ]
  },
  {
   "cell_type": "code",
   "execution_count": 349,
   "id": "a62c338b",
   "metadata": {},
   "outputs": [],
   "source": [
    "model_year=[]\n",
    "for i in data4['new_car_detail']:\n",
    "    model_year.append(i['modelYear'])\n"
   ]
  },
  {
   "cell_type": "code",
   "execution_count": 350,
   "id": "8dc9b70c",
   "metadata": {},
   "outputs": [],
   "source": [
    "color=[]\n",
    "for i in data4['new_car_specs']:\n",
    "    color.append(i['data'][0]['list'][0]['value'])"
   ]
  },
  {
   "cell_type": "code",
   "execution_count": 351,
   "id": "081ece31",
   "metadata": {},
   "outputs": [],
   "source": [
    "et=[]\n",
    "for i in data4['new_car_specs']:\n",
    "    et.append(i['data'][0]['list'][1]['value'])\n"
   ]
  },
  {
   "cell_type": "code",
   "execution_count": 352,
   "id": "6321eba6",
   "metadata": {},
   "outputs": [],
   "source": [
    "milege=[]\n",
    "for i in data4['new_car_specs']:\n",
    "    milege.append(i['top'][0]['value'])"
   ]
  },
  {
   "cell_type": "code",
   "execution_count": 353,
   "id": "b5f5996b",
   "metadata": {},
   "outputs": [],
   "source": [
    "price=[]\n",
    "for i in data4['new_car_detail']:\n",
    "    price.append(i['price'])\n"
   ]
  },
  {
   "cell_type": "code",
   "execution_count": 354,
   "id": "3461d791",
   "metadata": {},
   "outputs": [],
   "source": [
    "data4['registration Year']=reg\n",
    "data4['registration Year']=data4['registration Year'].str.extract(pat='(\\d+)', expand=False)\n",
    "data4['insurance']=ins\n",
    "data4['model']=model\n",
    "data4['model_year']=model_year\n",
    "data4['Engine_type']=et\n",
    "data4['fuel_type']=ft\n",
    "data4['no_seats']=seat\n",
    "data4['no_seats']=data4['no_seats'].str.extract(pat='(\\d+)', expand=False)\n",
    "data4['kms']=kms\n",
    "data4['kms']=data4['kms'].str.extract(pat='(\\d+)', expand=False)\n",
    "data4['milege']=milege\n",
    "data4['milege']=data4['milege'].str.extract(pat='(\\d+)', expand=False)\n",
    "data4['color']=color\n",
    "data4['owner_no']=owner\n",
    "data4['price']=price\n",
    "data4['price']=data4['price'].str.extract(pat='(\\d+)', expand=False)"
   ]
  },
  {
   "cell_type": "code",
   "execution_count": 355,
   "id": "19023b76",
   "metadata": {},
   "outputs": [],
   "source": [
    "data4.drop(['new_car_detail','new_car_overview','new_car_feature','new_car_specs','car_links'],axis=1,inplace=True)"
   ]
  },
  {
   "cell_type": "code",
   "execution_count": 356,
   "id": "887ab601",
   "metadata": {},
   "outputs": [],
   "source": [
    "data4.drop('feature',axis=1,inplace=True)"
   ]
  },
  {
   "cell_type": "code",
   "execution_count": 357,
   "id": "6bacb7f2",
   "metadata": {},
   "outputs": [
    {
     "data": {
      "text/html": [
       "<div>\n",
       "<style scoped>\n",
       "    .dataframe tbody tr th:only-of-type {\n",
       "        vertical-align: middle;\n",
       "    }\n",
       "\n",
       "    .dataframe tbody tr th {\n",
       "        vertical-align: top;\n",
       "    }\n",
       "\n",
       "    .dataframe thead th {\n",
       "        text-align: right;\n",
       "    }\n",
       "</style>\n",
       "<table border=\"1\" class=\"dataframe\">\n",
       "  <thead>\n",
       "    <tr style=\"text-align: right;\">\n",
       "      <th></th>\n",
       "      <th>registration Year</th>\n",
       "      <th>insurance</th>\n",
       "      <th>model</th>\n",
       "      <th>model_year</th>\n",
       "      <th>Engine_type</th>\n",
       "      <th>fuel_type</th>\n",
       "      <th>no_seats</th>\n",
       "      <th>kms</th>\n",
       "      <th>milege</th>\n",
       "      <th>color</th>\n",
       "      <th>owner_no</th>\n",
       "      <th>price</th>\n",
       "    </tr>\n",
       "  </thead>\n",
       "  <tbody>\n",
       "    <tr>\n",
       "      <th>0</th>\n",
       "      <td>2014</td>\n",
       "      <td>Third Party insurance</td>\n",
       "      <td>Toyota Camry</td>\n",
       "      <td>2014</td>\n",
       "      <td>2AR FXE Petrol Engine</td>\n",
       "      <td>Petrol</td>\n",
       "      <td>5</td>\n",
       "      <td>70</td>\n",
       "      <td>19</td>\n",
       "      <td>White</td>\n",
       "      <td>3</td>\n",
       "      <td>9</td>\n",
       "    </tr>\n",
       "    <tr>\n",
       "      <th>1</th>\n",
       "      <td>2017</td>\n",
       "      <td>Comprehensive</td>\n",
       "      <td>Datsun RediGO</td>\n",
       "      <td>2017</td>\n",
       "      <td>0.8L Petrol Engine</td>\n",
       "      <td>Petrol</td>\n",
       "      <td>5</td>\n",
       "      <td>23</td>\n",
       "      <td>22</td>\n",
       "      <td>Red</td>\n",
       "      <td>1</td>\n",
       "      <td>2</td>\n",
       "    </tr>\n",
       "    <tr>\n",
       "      <th>2</th>\n",
       "      <td>2021</td>\n",
       "      <td>Comprehensive</td>\n",
       "      <td>Renault Kiger</td>\n",
       "      <td>2021</td>\n",
       "      <td>1.0L energy</td>\n",
       "      <td>Petrol</td>\n",
       "      <td>5</td>\n",
       "      <td>7</td>\n",
       "      <td>19</td>\n",
       "      <td>Blue</td>\n",
       "      <td>1</td>\n",
       "      <td>5</td>\n",
       "    </tr>\n",
       "    <tr>\n",
       "      <th>3</th>\n",
       "      <td>2012</td>\n",
       "      <td>Third Party</td>\n",
       "      <td>Hyundai i20</td>\n",
       "      <td>2011</td>\n",
       "      <td>In-Line Engine</td>\n",
       "      <td>Petrol</td>\n",
       "      <td>5</td>\n",
       "      <td>71</td>\n",
       "      <td>17</td>\n",
       "      <td>Red</td>\n",
       "      <td>2</td>\n",
       "      <td>2</td>\n",
       "    </tr>\n",
       "    <tr>\n",
       "      <th>4</th>\n",
       "      <td>2014</td>\n",
       "      <td>Third Party insurance</td>\n",
       "      <td>Audi Q3</td>\n",
       "      <td>2014</td>\n",
       "      <td>TDI Diesel Engine</td>\n",
       "      <td>Diesel</td>\n",
       "      <td>5</td>\n",
       "      <td>50</td>\n",
       "      <td>15</td>\n",
       "      <td>White</td>\n",
       "      <td>2</td>\n",
       "      <td>12</td>\n",
       "    </tr>\n",
       "    <tr>\n",
       "      <th>...</th>\n",
       "      <td>...</td>\n",
       "      <td>...</td>\n",
       "      <td>...</td>\n",
       "      <td>...</td>\n",
       "      <td>...</td>\n",
       "      <td>...</td>\n",
       "      <td>...</td>\n",
       "      <td>...</td>\n",
       "      <td>...</td>\n",
       "      <td>...</td>\n",
       "      <td>...</td>\n",
       "      <td>...</td>\n",
       "    </tr>\n",
       "    <tr>\n",
       "      <th>1376</th>\n",
       "      <td>2022</td>\n",
       "      <td>Third Party insurance</td>\n",
       "      <td>Maruti Celerio</td>\n",
       "      <td>2022</td>\n",
       "      <td>K10C</td>\n",
       "      <td>Petrol</td>\n",
       "      <td>5</td>\n",
       "      <td>10</td>\n",
       "      <td>25</td>\n",
       "      <td>Others</td>\n",
       "      <td>1</td>\n",
       "      <td>5</td>\n",
       "    </tr>\n",
       "    <tr>\n",
       "      <th>1377</th>\n",
       "      <td>2014</td>\n",
       "      <td>Third Party insurance</td>\n",
       "      <td>Maruti Alto 800</td>\n",
       "      <td>2014</td>\n",
       "      <td>F8D Petrol Engine</td>\n",
       "      <td>Petrol</td>\n",
       "      <td>5</td>\n",
       "      <td>1</td>\n",
       "      <td>22</td>\n",
       "      <td>Others</td>\n",
       "      <td>1</td>\n",
       "      <td>1</td>\n",
       "    </tr>\n",
       "    <tr>\n",
       "      <th>1378</th>\n",
       "      <td>2011</td>\n",
       "      <td>Third Party insurance</td>\n",
       "      <td>Mercedes-Benz C-Class</td>\n",
       "      <td>2011</td>\n",
       "      <td>Blue Efficiency Engine</td>\n",
       "      <td>Petrol</td>\n",
       "      <td>5</td>\n",
       "      <td>50</td>\n",
       "      <td>11</td>\n",
       "      <td>Others</td>\n",
       "      <td>3</td>\n",
       "      <td>5</td>\n",
       "    </tr>\n",
       "    <tr>\n",
       "      <th>1379</th>\n",
       "      <td>2012</td>\n",
       "      <td>Third Party insurance</td>\n",
       "      <td>Maruti Ritz</td>\n",
       "      <td>2012</td>\n",
       "      <td>K Series Petrol Engine</td>\n",
       "      <td>Petrol</td>\n",
       "      <td>5</td>\n",
       "      <td>40</td>\n",
       "      <td>18</td>\n",
       "      <td>Others</td>\n",
       "      <td>1</td>\n",
       "      <td>1</td>\n",
       "    </tr>\n",
       "    <tr>\n",
       "      <th>1380</th>\n",
       "      <td>2017</td>\n",
       "      <td>Third Party insurance</td>\n",
       "      <td>Renault Duster</td>\n",
       "      <td>2017</td>\n",
       "      <td>dCi THP Diesel Engine</td>\n",
       "      <td>Diesel</td>\n",
       "      <td>5</td>\n",
       "      <td>1</td>\n",
       "      <td>19</td>\n",
       "      <td>Others</td>\n",
       "      <td>2</td>\n",
       "      <td>5</td>\n",
       "    </tr>\n",
       "  </tbody>\n",
       "</table>\n",
       "<p>1381 rows × 12 columns</p>\n",
       "</div>"
      ],
      "text/plain": [
       "     registration Year              insurance                  model  \\\n",
       "0                 2014  Third Party insurance           Toyota Camry   \n",
       "1                 2017          Comprehensive          Datsun RediGO   \n",
       "2                 2021          Comprehensive          Renault Kiger   \n",
       "3                 2012            Third Party            Hyundai i20   \n",
       "4                 2014  Third Party insurance                Audi Q3   \n",
       "...                ...                    ...                    ...   \n",
       "1376              2022  Third Party insurance         Maruti Celerio   \n",
       "1377              2014  Third Party insurance        Maruti Alto 800   \n",
       "1378              2011  Third Party insurance  Mercedes-Benz C-Class   \n",
       "1379              2012  Third Party insurance            Maruti Ritz   \n",
       "1380              2017  Third Party insurance         Renault Duster   \n",
       "\n",
       "      model_year             Engine_type fuel_type no_seats kms milege  \\\n",
       "0           2014  2AR FXE Petrol Engine     Petrol        5  70     19   \n",
       "1           2017      0.8L Petrol Engine    Petrol        5  23     22   \n",
       "2           2021             1.0L energy    Petrol        5   7     19   \n",
       "3           2011          In-Line Engine    Petrol        5  71     17   \n",
       "4           2014       TDI Diesel Engine    Diesel        5  50     15   \n",
       "...          ...                     ...       ...      ...  ..    ...   \n",
       "1376        2022                    K10C    Petrol        5  10     25   \n",
       "1377        2014       F8D Petrol Engine    Petrol        5   1     22   \n",
       "1378        2011  Blue Efficiency Engine    Petrol        5  50     11   \n",
       "1379        2012  K Series Petrol Engine    Petrol        5  40     18   \n",
       "1380        2017   dCi THP Diesel Engine    Diesel        5   1     19   \n",
       "\n",
       "       color  owner_no price  \n",
       "0      White         3     9  \n",
       "1        Red         1     2  \n",
       "2       Blue         1     5  \n",
       "3        Red         2     2  \n",
       "4      White         2    12  \n",
       "...      ...       ...   ...  \n",
       "1376  Others         1     5  \n",
       "1377  Others         1     1  \n",
       "1378  Others         3     5  \n",
       "1379  Others         1     1  \n",
       "1380  Others         2     5  \n",
       "\n",
       "[1381 rows x 12 columns]"
      ]
     },
     "execution_count": 357,
     "metadata": {},
     "output_type": "execute_result"
    }
   ],
   "source": [
    "data4"
   ]
  },
  {
   "cell_type": "code",
   "execution_count": 358,
   "id": "78676d3b",
   "metadata": {},
   "outputs": [],
   "source": [
    "data5=pd.read_excel('jaipur_cars.xlsx')"
   ]
  },
  {
   "cell_type": "code",
   "execution_count": 359,
   "id": "def8aae6",
   "metadata": {},
   "outputs": [],
   "source": [
    "data5['new_car_overview'] = data5.new_car_overview.apply(eval)\n",
    "data5['new_car_specs'] = data5.new_car_specs.apply(eval)\n",
    "data5['new_car_detail'] = data5.new_car_detail.apply(eval)\n",
    "data5['feature'] = data5.new_car_feature.apply(eval)"
   ]
  },
  {
   "cell_type": "code",
   "execution_count": 360,
   "id": "bbc1acde",
   "metadata": {},
   "outputs": [],
   "source": [
    "reg=[]\n",
    "for i in data5['new_car_overview']:\n",
    "    reg.append(i['top'][0]['value'])"
   ]
  },
  {
   "cell_type": "code",
   "execution_count": 361,
   "id": "7fa9f8ba",
   "metadata": {},
   "outputs": [],
   "source": [
    "ins=[]\n",
    "for i in data5['new_car_overview']:\n",
    "    ins.append(i['top'][1]['value'])"
   ]
  },
  {
   "cell_type": "code",
   "execution_count": 362,
   "id": "1b5b8d55",
   "metadata": {},
   "outputs": [],
   "source": [
    "ft=[]\n",
    "for i in data5['new_car_overview']:\n",
    "    ft.append(i['top'][2]['value'])"
   ]
  },
  {
   "cell_type": "code",
   "execution_count": 363,
   "id": "2e6a4b29",
   "metadata": {},
   "outputs": [],
   "source": [
    "seat=[]\n",
    "for i in data5['new_car_overview']:\n",
    "    seat.append(i['top'][3]['value'])"
   ]
  },
  {
   "cell_type": "code",
   "execution_count": 364,
   "id": "05469a31",
   "metadata": {},
   "outputs": [],
   "source": [
    "kms=[]\n",
    "for i in data5['new_car_overview']:\n",
    "    kms.append(i['top'][4]['value'])"
   ]
  },
  {
   "cell_type": "code",
   "execution_count": 365,
   "id": "5808d0e4",
   "metadata": {},
   "outputs": [],
   "source": [
    "model=[]\n",
    "for i in data5['new_car_detail']:\n",
    "    model.append(i['model'])"
   ]
  },
  {
   "cell_type": "code",
   "execution_count": 366,
   "id": "ba08e210",
   "metadata": {},
   "outputs": [],
   "source": [
    "owner=[]\n",
    "for i in data5['new_car_detail']:\n",
    "    owner.append(i['ownerNo'])"
   ]
  },
  {
   "cell_type": "code",
   "execution_count": 367,
   "id": "1fb00919",
   "metadata": {},
   "outputs": [],
   "source": [
    "model_year=[]\n",
    "for i in data5['new_car_detail']:\n",
    "    model_year.append(i['modelYear'])\n"
   ]
  },
  {
   "cell_type": "code",
   "execution_count": 368,
   "id": "fd1258f9",
   "metadata": {},
   "outputs": [],
   "source": [
    "color=[]\n",
    "for i in data5['new_car_specs']:\n",
    "    color.append(i['data'][0]['list'][0]['value'])"
   ]
  },
  {
   "cell_type": "code",
   "execution_count": 369,
   "id": "b2ab57c6",
   "metadata": {},
   "outputs": [],
   "source": [
    "et=[]\n",
    "for i in data5['new_car_specs']:\n",
    "    et.append(i['data'][0]['list'][1]['value'])\n"
   ]
  },
  {
   "cell_type": "code",
   "execution_count": 370,
   "id": "0dbed9e9",
   "metadata": {},
   "outputs": [],
   "source": [
    "milege=[]\n",
    "for i in data5['new_car_specs']:\n",
    "    milege.append(i['top'][0]['value'])"
   ]
  },
  {
   "cell_type": "code",
   "execution_count": 371,
   "id": "500d6048",
   "metadata": {},
   "outputs": [],
   "source": [
    "price=[]\n",
    "for i in data5['new_car_detail']:\n",
    "    price.append(i['price'])\n"
   ]
  },
  {
   "cell_type": "code",
   "execution_count": 372,
   "id": "3b184798",
   "metadata": {},
   "outputs": [],
   "source": [
    "data5['registration Year']=reg\n",
    "data5['registration Year']=data5['registration Year'].str.extract(pat='(\\d+)', expand=False)\n",
    "data5['insurance']=ins\n",
    "data5['model']=model\n",
    "data5['model_year']=model_year\n",
    "data5['Engine_type']=et\n",
    "data5['fuel_type']=ft\n",
    "data5['no_seats']=seat\n",
    "data5['no_seats']=data5['no_seats'].str.extract(pat='(\\d+)', expand=False)\n",
    "data5['kms']=kms\n",
    "data5['kms']=data5['kms'].str.extract(pat='(\\d+)', expand=False)\n",
    "data5['milege']=milege\n",
    "data5['milege']=data5['milege'].str.extract(pat='(\\d+)', expand=False)\n",
    "data5['color']=color\n",
    "data5['owner_no']=owner\n",
    "data5['price']=price\n",
    "data5['price']=data5['price'].str.extract(pat='(\\d+)', expand=False)"
   ]
  },
  {
   "cell_type": "code",
   "execution_count": 373,
   "id": "17337ed1",
   "metadata": {},
   "outputs": [],
   "source": [
    "data5.drop(['new_car_detail','new_car_overview','new_car_feature','new_car_specs','car_links'],axis=1,inplace=True)"
   ]
  },
  {
   "cell_type": "code",
   "execution_count": 374,
   "id": "2644d4df",
   "metadata": {},
   "outputs": [],
   "source": [
    "data5.drop('feature',axis=1,inplace=True)"
   ]
  },
  {
   "cell_type": "code",
   "execution_count": 375,
   "id": "3e01a4e3",
   "metadata": {},
   "outputs": [
    {
     "data": {
      "text/html": [
       "<div>\n",
       "<style scoped>\n",
       "    .dataframe tbody tr th:only-of-type {\n",
       "        vertical-align: middle;\n",
       "    }\n",
       "\n",
       "    .dataframe tbody tr th {\n",
       "        vertical-align: top;\n",
       "    }\n",
       "\n",
       "    .dataframe thead th {\n",
       "        text-align: right;\n",
       "    }\n",
       "</style>\n",
       "<table border=\"1\" class=\"dataframe\">\n",
       "  <thead>\n",
       "    <tr style=\"text-align: right;\">\n",
       "      <th></th>\n",
       "      <th>registration Year</th>\n",
       "      <th>insurance</th>\n",
       "      <th>model</th>\n",
       "      <th>model_year</th>\n",
       "      <th>Engine_type</th>\n",
       "      <th>fuel_type</th>\n",
       "      <th>no_seats</th>\n",
       "      <th>kms</th>\n",
       "      <th>milege</th>\n",
       "      <th>color</th>\n",
       "      <th>owner_no</th>\n",
       "      <th>price</th>\n",
       "    </tr>\n",
       "  </thead>\n",
       "  <tbody>\n",
       "    <tr>\n",
       "      <th>0</th>\n",
       "      <td>2015</td>\n",
       "      <td>Third Party insurance</td>\n",
       "      <td>Hyundai i20</td>\n",
       "      <td>2015</td>\n",
       "      <td>U2 CRDI Diesel Engine</td>\n",
       "      <td>Diesel</td>\n",
       "      <td>5</td>\n",
       "      <td>1</td>\n",
       "      <td>22</td>\n",
       "      <td>Others</td>\n",
       "      <td>2</td>\n",
       "      <td>5</td>\n",
       "    </tr>\n",
       "    <tr>\n",
       "      <th>1</th>\n",
       "      <td>2012</td>\n",
       "      <td>Third Party</td>\n",
       "      <td>Maruti Swift</td>\n",
       "      <td>2012</td>\n",
       "      <td>K Series Dual jet</td>\n",
       "      <td>Petrol</td>\n",
       "      <td>5</td>\n",
       "      <td>66</td>\n",
       "      <td>22</td>\n",
       "      <td>White</td>\n",
       "      <td>1</td>\n",
       "      <td>3</td>\n",
       "    </tr>\n",
       "    <tr>\n",
       "      <th>2</th>\n",
       "      <td>2016</td>\n",
       "      <td>Third Party insurance</td>\n",
       "      <td>Maruti Celerio</td>\n",
       "      <td>2016</td>\n",
       "      <td>K10B Engine</td>\n",
       "      <td>Petrol</td>\n",
       "      <td>5</td>\n",
       "      <td>80</td>\n",
       "      <td>23</td>\n",
       "      <td>Others</td>\n",
       "      <td>2</td>\n",
       "      <td>3</td>\n",
       "    </tr>\n",
       "    <tr>\n",
       "      <th>3</th>\n",
       "      <td>2017</td>\n",
       "      <td>Third Party insurance</td>\n",
       "      <td>Hyundai Grand i10</td>\n",
       "      <td>2017</td>\n",
       "      <td>Kappa VTVT Petrol Engine</td>\n",
       "      <td>Petrol</td>\n",
       "      <td>5</td>\n",
       "      <td>44</td>\n",
       "      <td>18</td>\n",
       "      <td>Silver</td>\n",
       "      <td>1</td>\n",
       "      <td>4</td>\n",
       "    </tr>\n",
       "    <tr>\n",
       "      <th>4</th>\n",
       "      <td>2016</td>\n",
       "      <td>Third Party insurance</td>\n",
       "      <td>Maruti Wagon R</td>\n",
       "      <td>2016</td>\n",
       "      <td>K10B Petrol Engine</td>\n",
       "      <td>Petrol</td>\n",
       "      <td>5</td>\n",
       "      <td>40</td>\n",
       "      <td>20</td>\n",
       "      <td>Silver</td>\n",
       "      <td>1</td>\n",
       "      <td>3</td>\n",
       "    </tr>\n",
       "    <tr>\n",
       "      <th>...</th>\n",
       "      <td>...</td>\n",
       "      <td>...</td>\n",
       "      <td>...</td>\n",
       "      <td>...</td>\n",
       "      <td>...</td>\n",
       "      <td>...</td>\n",
       "      <td>...</td>\n",
       "      <td>...</td>\n",
       "      <td>...</td>\n",
       "      <td>...</td>\n",
       "      <td>...</td>\n",
       "      <td>...</td>\n",
       "    </tr>\n",
       "    <tr>\n",
       "      <th>1115</th>\n",
       "      <td>2011</td>\n",
       "      <td>Third Party insurance</td>\n",
       "      <td>Chevrolet Beat</td>\n",
       "      <td>2011</td>\n",
       "      <td>Smartech Engine</td>\n",
       "      <td>Petrol</td>\n",
       "      <td>5</td>\n",
       "      <td>1</td>\n",
       "      <td>18</td>\n",
       "      <td>Others</td>\n",
       "      <td>1</td>\n",
       "      <td>1</td>\n",
       "    </tr>\n",
       "    <tr>\n",
       "      <th>1116</th>\n",
       "      <td>2007</td>\n",
       "      <td>Third Party insurance</td>\n",
       "      <td>Maruti Alto</td>\n",
       "      <td>2007</td>\n",
       "      <td>In-Line Engine</td>\n",
       "      <td>Petrol</td>\n",
       "      <td>5</td>\n",
       "      <td>70</td>\n",
       "      <td>19</td>\n",
       "      <td>Others</td>\n",
       "      <td>1</td>\n",
       "      <td>1</td>\n",
       "    </tr>\n",
       "    <tr>\n",
       "      <th>1117</th>\n",
       "      <td>2022</td>\n",
       "      <td>Third Party insurance</td>\n",
       "      <td>Renault Kiger</td>\n",
       "      <td>2022</td>\n",
       "      <td>1.0L energy</td>\n",
       "      <td>Petrol</td>\n",
       "      <td>5</td>\n",
       "      <td>20</td>\n",
       "      <td>19</td>\n",
       "      <td>Others</td>\n",
       "      <td>1</td>\n",
       "      <td>8</td>\n",
       "    </tr>\n",
       "    <tr>\n",
       "      <th>1118</th>\n",
       "      <td>2009</td>\n",
       "      <td>Third Party insurance</td>\n",
       "      <td>Maruti Alto</td>\n",
       "      <td>2009</td>\n",
       "      <td>In-Line Engine</td>\n",
       "      <td>Petrol</td>\n",
       "      <td>5</td>\n",
       "      <td>40</td>\n",
       "      <td>19</td>\n",
       "      <td>Others</td>\n",
       "      <td>1</td>\n",
       "      <td>1</td>\n",
       "    </tr>\n",
       "    <tr>\n",
       "      <th>1119</th>\n",
       "      <td>2018</td>\n",
       "      <td>Third Party insurance</td>\n",
       "      <td>Maruti Baleno</td>\n",
       "      <td>2018</td>\n",
       "      <td>VVT Petrol Engine</td>\n",
       "      <td>Petrol</td>\n",
       "      <td>5</td>\n",
       "      <td>80</td>\n",
       "      <td>21</td>\n",
       "      <td>Others</td>\n",
       "      <td>1</td>\n",
       "      <td>5</td>\n",
       "    </tr>\n",
       "  </tbody>\n",
       "</table>\n",
       "<p>1120 rows × 12 columns</p>\n",
       "</div>"
      ],
      "text/plain": [
       "     registration Year              insurance              model  model_year  \\\n",
       "0                 2015  Third Party insurance        Hyundai i20        2015   \n",
       "1                 2012            Third Party       Maruti Swift        2012   \n",
       "2                 2016  Third Party insurance     Maruti Celerio        2016   \n",
       "3                 2017  Third Party insurance  Hyundai Grand i10        2017   \n",
       "4                 2016  Third Party insurance     Maruti Wagon R        2016   \n",
       "...                ...                    ...                ...         ...   \n",
       "1115              2011  Third Party insurance     Chevrolet Beat        2011   \n",
       "1116              2007  Third Party insurance        Maruti Alto        2007   \n",
       "1117              2022  Third Party insurance      Renault Kiger        2022   \n",
       "1118              2009  Third Party insurance        Maruti Alto        2009   \n",
       "1119              2018  Third Party insurance      Maruti Baleno        2018   \n",
       "\n",
       "                   Engine_type fuel_type no_seats kms milege   color  \\\n",
       "0        U2 CRDI Diesel Engine    Diesel        5   1     22  Others   \n",
       "1            K Series Dual jet    Petrol        5  66     22   White   \n",
       "2                  K10B Engine    Petrol        5  80     23  Others   \n",
       "3     Kappa VTVT Petrol Engine    Petrol        5  44     18  Silver   \n",
       "4           K10B Petrol Engine    Petrol        5  40     20  Silver   \n",
       "...                        ...       ...      ...  ..    ...     ...   \n",
       "1115           Smartech Engine    Petrol        5   1     18  Others   \n",
       "1116            In-Line Engine    Petrol        5  70     19  Others   \n",
       "1117               1.0L energy    Petrol        5  20     19  Others   \n",
       "1118            In-Line Engine    Petrol        5  40     19  Others   \n",
       "1119         VVT Petrol Engine    Petrol        5  80     21  Others   \n",
       "\n",
       "      owner_no price  \n",
       "0            2     5  \n",
       "1            1     3  \n",
       "2            2     3  \n",
       "3            1     4  \n",
       "4            1     3  \n",
       "...        ...   ...  \n",
       "1115         1     1  \n",
       "1116         1     1  \n",
       "1117         1     8  \n",
       "1118         1     1  \n",
       "1119         1     5  \n",
       "\n",
       "[1120 rows x 12 columns]"
      ]
     },
     "execution_count": 375,
     "metadata": {},
     "output_type": "execute_result"
    }
   ],
   "source": [
    "data5"
   ]
  },
  {
   "cell_type": "code",
   "execution_count": 514,
   "id": "3859fabb",
   "metadata": {},
   "outputs": [],
   "source": [
    "df=pd.concat([data1,data2,data3,data4,data5],ignore_index=True)"
   ]
  },
  {
   "cell_type": "code",
   "execution_count": 515,
   "id": "a3a6520e",
   "metadata": {},
   "outputs": [
    {
     "data": {
      "text/html": [
       "<div>\n",
       "<style scoped>\n",
       "    .dataframe tbody tr th:only-of-type {\n",
       "        vertical-align: middle;\n",
       "    }\n",
       "\n",
       "    .dataframe tbody tr th {\n",
       "        vertical-align: top;\n",
       "    }\n",
       "\n",
       "    .dataframe thead th {\n",
       "        text-align: right;\n",
       "    }\n",
       "</style>\n",
       "<table border=\"1\" class=\"dataframe\">\n",
       "  <thead>\n",
       "    <tr style=\"text-align: right;\">\n",
       "      <th></th>\n",
       "      <th>registration Year</th>\n",
       "      <th>insurance</th>\n",
       "      <th>model</th>\n",
       "      <th>model_year</th>\n",
       "      <th>Engine_type</th>\n",
       "      <th>fuel_type</th>\n",
       "      <th>no_seats</th>\n",
       "      <th>kms</th>\n",
       "      <th>milege</th>\n",
       "      <th>color</th>\n",
       "      <th>owner_no</th>\n",
       "      <th>price</th>\n",
       "    </tr>\n",
       "  </thead>\n",
       "  <tbody>\n",
       "    <tr>\n",
       "      <th>0</th>\n",
       "      <td>2015</td>\n",
       "      <td>Third Party insurance</td>\n",
       "      <td>Maruti Celerio</td>\n",
       "      <td>2015</td>\n",
       "      <td>K10B Engine</td>\n",
       "      <td>Petrol</td>\n",
       "      <td>5</td>\n",
       "      <td>1</td>\n",
       "      <td>23</td>\n",
       "      <td>White</td>\n",
       "      <td>3</td>\n",
       "      <td>4</td>\n",
       "    </tr>\n",
       "    <tr>\n",
       "      <th>1</th>\n",
       "      <td>2018</td>\n",
       "      <td>Comprehensive</td>\n",
       "      <td>Ford Ecosport</td>\n",
       "      <td>2018</td>\n",
       "      <td>Ti-VCT Petrol Engine</td>\n",
       "      <td>Petrol</td>\n",
       "      <td>5</td>\n",
       "      <td>32</td>\n",
       "      <td>17</td>\n",
       "      <td>White</td>\n",
       "      <td>2</td>\n",
       "      <td>8</td>\n",
       "    </tr>\n",
       "    <tr>\n",
       "      <th>2</th>\n",
       "      <td>2018</td>\n",
       "      <td>Comprehensive</td>\n",
       "      <td>Tata Tiago</td>\n",
       "      <td>2018</td>\n",
       "      <td>Revotron Engine</td>\n",
       "      <td>Petrol</td>\n",
       "      <td>5</td>\n",
       "      <td>11</td>\n",
       "      <td>23</td>\n",
       "      <td>Red</td>\n",
       "      <td>1</td>\n",
       "      <td>5</td>\n",
       "    </tr>\n",
       "    <tr>\n",
       "      <th>3</th>\n",
       "      <td>2014</td>\n",
       "      <td>Comprehensive</td>\n",
       "      <td>Hyundai Xcent</td>\n",
       "      <td>2014</td>\n",
       "      <td>Kappa VTVT Petrol Engine</td>\n",
       "      <td>Petrol</td>\n",
       "      <td>5</td>\n",
       "      <td>17</td>\n",
       "      <td>19</td>\n",
       "      <td>Others</td>\n",
       "      <td>1</td>\n",
       "      <td>4</td>\n",
       "    </tr>\n",
       "    <tr>\n",
       "      <th>4</th>\n",
       "      <td>2015</td>\n",
       "      <td>Third Party insurance</td>\n",
       "      <td>Maruti SX4 S Cross</td>\n",
       "      <td>2015</td>\n",
       "      <td>DDiS 200 Diesel Engine</td>\n",
       "      <td>Diesel</td>\n",
       "      <td>5</td>\n",
       "      <td>60</td>\n",
       "      <td>23</td>\n",
       "      <td>Gray</td>\n",
       "      <td>1</td>\n",
       "      <td>7</td>\n",
       "    </tr>\n",
       "    <tr>\n",
       "      <th>...</th>\n",
       "      <td>...</td>\n",
       "      <td>...</td>\n",
       "      <td>...</td>\n",
       "      <td>...</td>\n",
       "      <td>...</td>\n",
       "      <td>...</td>\n",
       "      <td>...</td>\n",
       "      <td>...</td>\n",
       "      <td>...</td>\n",
       "      <td>...</td>\n",
       "      <td>...</td>\n",
       "      <td>...</td>\n",
       "    </tr>\n",
       "    <tr>\n",
       "      <th>6879</th>\n",
       "      <td>2011</td>\n",
       "      <td>Third Party insurance</td>\n",
       "      <td>Chevrolet Beat</td>\n",
       "      <td>2011</td>\n",
       "      <td>Smartech Engine</td>\n",
       "      <td>Petrol</td>\n",
       "      <td>5</td>\n",
       "      <td>1</td>\n",
       "      <td>18</td>\n",
       "      <td>Others</td>\n",
       "      <td>1</td>\n",
       "      <td>1</td>\n",
       "    </tr>\n",
       "    <tr>\n",
       "      <th>6880</th>\n",
       "      <td>2007</td>\n",
       "      <td>Third Party insurance</td>\n",
       "      <td>Maruti Alto</td>\n",
       "      <td>2007</td>\n",
       "      <td>In-Line Engine</td>\n",
       "      <td>Petrol</td>\n",
       "      <td>5</td>\n",
       "      <td>70</td>\n",
       "      <td>19</td>\n",
       "      <td>Others</td>\n",
       "      <td>1</td>\n",
       "      <td>1</td>\n",
       "    </tr>\n",
       "    <tr>\n",
       "      <th>6881</th>\n",
       "      <td>2022</td>\n",
       "      <td>Third Party insurance</td>\n",
       "      <td>Renault Kiger</td>\n",
       "      <td>2022</td>\n",
       "      <td>1.0L energy</td>\n",
       "      <td>Petrol</td>\n",
       "      <td>5</td>\n",
       "      <td>20</td>\n",
       "      <td>19</td>\n",
       "      <td>Others</td>\n",
       "      <td>1</td>\n",
       "      <td>8</td>\n",
       "    </tr>\n",
       "    <tr>\n",
       "      <th>6882</th>\n",
       "      <td>2009</td>\n",
       "      <td>Third Party insurance</td>\n",
       "      <td>Maruti Alto</td>\n",
       "      <td>2009</td>\n",
       "      <td>In-Line Engine</td>\n",
       "      <td>Petrol</td>\n",
       "      <td>5</td>\n",
       "      <td>40</td>\n",
       "      <td>19</td>\n",
       "      <td>Others</td>\n",
       "      <td>1</td>\n",
       "      <td>1</td>\n",
       "    </tr>\n",
       "    <tr>\n",
       "      <th>6883</th>\n",
       "      <td>2018</td>\n",
       "      <td>Third Party insurance</td>\n",
       "      <td>Maruti Baleno</td>\n",
       "      <td>2018</td>\n",
       "      <td>VVT Petrol Engine</td>\n",
       "      <td>Petrol</td>\n",
       "      <td>5</td>\n",
       "      <td>80</td>\n",
       "      <td>21</td>\n",
       "      <td>Others</td>\n",
       "      <td>1</td>\n",
       "      <td>5</td>\n",
       "    </tr>\n",
       "  </tbody>\n",
       "</table>\n",
       "<p>6884 rows × 12 columns</p>\n",
       "</div>"
      ],
      "text/plain": [
       "     registration Year              insurance               model  model_year  \\\n",
       "0                 2015  Third Party insurance      Maruti Celerio        2015   \n",
       "1                 2018          Comprehensive       Ford Ecosport        2018   \n",
       "2                 2018          Comprehensive          Tata Tiago        2018   \n",
       "3                 2014          Comprehensive       Hyundai Xcent        2014   \n",
       "4                 2015  Third Party insurance  Maruti SX4 S Cross        2015   \n",
       "...                ...                    ...                 ...         ...   \n",
       "6879              2011  Third Party insurance      Chevrolet Beat        2011   \n",
       "6880              2007  Third Party insurance         Maruti Alto        2007   \n",
       "6881              2022  Third Party insurance       Renault Kiger        2022   \n",
       "6882              2009  Third Party insurance         Maruti Alto        2009   \n",
       "6883              2018  Third Party insurance       Maruti Baleno        2018   \n",
       "\n",
       "                   Engine_type fuel_type no_seats kms milege   color  \\\n",
       "0                  K10B Engine    Petrol        5   1     23   White   \n",
       "1         Ti-VCT Petrol Engine    Petrol        5  32     17   White   \n",
       "2              Revotron Engine    Petrol        5  11     23     Red   \n",
       "3     Kappa VTVT Petrol Engine    Petrol        5  17     19  Others   \n",
       "4       DDiS 200 Diesel Engine    Diesel        5  60     23    Gray   \n",
       "...                        ...       ...      ...  ..    ...     ...   \n",
       "6879           Smartech Engine    Petrol        5   1     18  Others   \n",
       "6880            In-Line Engine    Petrol        5  70     19  Others   \n",
       "6881               1.0L energy    Petrol        5  20     19  Others   \n",
       "6882            In-Line Engine    Petrol        5  40     19  Others   \n",
       "6883         VVT Petrol Engine    Petrol        5  80     21  Others   \n",
       "\n",
       "      owner_no price  \n",
       "0            3     4  \n",
       "1            2     8  \n",
       "2            1     5  \n",
       "3            1     4  \n",
       "4            1     7  \n",
       "...        ...   ...  \n",
       "6879         1     1  \n",
       "6880         1     1  \n",
       "6881         1     8  \n",
       "6882         1     1  \n",
       "6883         1     5  \n",
       "\n",
       "[6884 rows x 12 columns]"
      ]
     },
     "execution_count": 515,
     "metadata": {},
     "output_type": "execute_result"
    }
   ],
   "source": [
    "df"
   ]
  },
  {
   "cell_type": "code",
   "execution_count": 378,
   "id": "3173ea11",
   "metadata": {},
   "outputs": [
    {
     "data": {
      "text/plain": [
       "registration Year    47\n",
       "insurance             0\n",
       "model                 0\n",
       "model_year            0\n",
       "Engine_type           0\n",
       "fuel_type             0\n",
       "no_seats              0\n",
       "kms                  10\n",
       "milege                0\n",
       "color                 0\n",
       "owner_no              0\n",
       "price                 0\n",
       "dtype: int64"
      ]
     },
     "execution_count": 378,
     "metadata": {},
     "output_type": "execute_result"
    }
   ],
   "source": [
    "df.isnull().sum()"
   ]
  },
  {
   "cell_type": "code",
   "execution_count": 516,
   "id": "0a463690",
   "metadata": {},
   "outputs": [],
   "source": [
    "df['registration Year'].fillna(df['registration Year'].mode()[0],inplace=True)"
   ]
  },
  {
   "cell_type": "code",
   "execution_count": null,
   "id": "d7ee1b71",
   "metadata": {},
   "outputs": [],
   "source": []
  },
  {
   "cell_type": "code",
   "execution_count": 517,
   "id": "49327900",
   "metadata": {},
   "outputs": [],
   "source": [
    "df['registration Year']=df['registration Year'].astype(int)\n",
    "df['no_seats']=df['no_seats'].astype(int)\n",
    "df['kms'] = df['kms'].replace('NaN', pd.NA).fillna(0).astype(int)\n",
    "df['milege']=df['milege'].astype(int)\n",
    "df['owner_no']=df['owner_no'].astype(int)\n",
    "df['price']=df['price'].astype(int)"
   ]
  },
  {
   "cell_type": "code",
   "execution_count": null,
   "id": "6cf9defa",
   "metadata": {},
   "outputs": [],
   "source": []
  },
  {
   "cell_type": "code",
   "execution_count": 386,
   "id": "d557f4c3",
   "metadata": {},
   "outputs": [
    {
     "data": {
      "text/plain": [
       "16    46\n",
       "57    46\n",
       "19    45\n",
       "14    45\n",
       "69    45\n",
       "76    45\n",
       "73    44\n",
       "58    44\n",
       "64    43\n",
       "18    42\n",
       "25    42\n",
       "17    42\n",
       "15    40\n",
       "21    39\n",
       "66    39\n",
       "59    39\n",
       "26    37\n",
       "89    36\n",
       "81    36\n",
       "79    36\n",
       "78    35\n",
       "12    33\n",
       "88    33\n",
       "7     32\n",
       "83    32\n",
       "96    31\n",
       "74    31\n",
       "43    29\n",
       "8     29\n",
       "95    28\n",
       "11    28\n",
       "77    28\n",
       "87    28\n",
       "6     27\n",
       "91    26\n",
       "82    26\n",
       "94    26\n",
       "13    26\n",
       "2     25\n",
       "4     24\n",
       "92    24\n",
       "97    23\n",
       "86    21\n",
       "84    21\n",
       "98    20\n",
       "5     19\n",
       "93    19\n",
       "99    19\n",
       "3     17\n",
       "0     11\n",
       "Name: kms, dtype: int64"
      ]
     },
     "execution_count": 386,
     "metadata": {},
     "output_type": "execute_result"
    }
   ],
   "source": [
    "df['kms'].value_counts()[50:100]"
   ]
  },
  {
   "cell_type": "code",
   "execution_count": 387,
   "id": "b0493579",
   "metadata": {},
   "outputs": [],
   "source": [
    "import seaborn as sns"
   ]
  },
  {
   "cell_type": "code",
   "execution_count": 388,
   "id": "c7070df0",
   "metadata": {},
   "outputs": [
    {
     "name": "stderr",
     "output_type": "stream",
     "text": [
      "/var/folders/3t/pqh4_s6s6wv5gtzhmb5s8qn80000gn/T/ipykernel_10854/962033958.py:1: FutureWarning: The default value of numeric_only in DataFrame.corr is deprecated. In a future version, it will default to False. Select only valid columns or specify the value of numeric_only to silence this warning.\n",
      "  a=df.corr()\n"
     ]
    }
   ],
   "source": [
    "a=df.corr()"
   ]
  },
  {
   "cell_type": "code",
   "execution_count": 401,
   "id": "2dbc29c9",
   "metadata": {},
   "outputs": [
    {
     "name": "stderr",
     "output_type": "stream",
     "text": [
      "/var/folders/3t/pqh4_s6s6wv5gtzhmb5s8qn80000gn/T/ipykernel_10854/1665899112.py:1: FutureWarning: The default value of numeric_only in DataFrame.skew is deprecated. In a future version, it will default to False. In addition, specifying 'numeric_only=None' is deprecated. Select only valid columns or specify the value of numeric_only to silence this warning.\n",
      "  df.skew()\n"
     ]
    },
    {
     "data": {
      "text/plain": [
       "registration Year       -0.733635\n",
       "model_year              -0.951499\n",
       "no_seats                15.430126\n",
       "kms                           NaN\n",
       "milege                   6.908193\n",
       "owner_no                 1.834519\n",
       "price                    3.926368\n",
       "tr_registration Year    -0.738865\n",
       "tr_no_seats              7.206658\n",
       "dtype: float64"
      ]
     },
     "execution_count": 401,
     "metadata": {},
     "output_type": "execute_result"
    }
   ],
   "source": [
    "df.skew()"
   ]
  },
  {
   "cell_type": "code",
   "execution_count": 518,
   "id": "8aee7d7b",
   "metadata": {},
   "outputs": [],
   "source": [
    "import numpy as np"
   ]
  },
  {
   "cell_type": "code",
   "execution_count": 520,
   "id": "bf78cd42",
   "metadata": {},
   "outputs": [],
   "source": [
    "df['tr_no_seats']=np.log(df['no_seats'])"
   ]
  },
  {
   "cell_type": "code",
   "execution_count": 521,
   "id": "5f82dd7b",
   "metadata": {},
   "outputs": [],
   "source": [
    "df['tr_kms']=np.log([x+1 for x in df['kms']])"
   ]
  },
  {
   "cell_type": "code",
   "execution_count": 522,
   "id": "7f4bd194",
   "metadata": {},
   "outputs": [],
   "source": [
    "df.dropna(inplace=True)"
   ]
  },
  {
   "cell_type": "code",
   "execution_count": 523,
   "id": "20f650fd",
   "metadata": {},
   "outputs": [
    {
     "data": {
      "text/plain": [
       "registration Year    0\n",
       "insurance            0\n",
       "model                0\n",
       "model_year           0\n",
       "Engine_type          0\n",
       "fuel_type            0\n",
       "no_seats             0\n",
       "kms                  0\n",
       "milege               0\n",
       "color                0\n",
       "owner_no             0\n",
       "price                0\n",
       "tr_no_seats          0\n",
       "tr_kms               0\n",
       "dtype: int64"
      ]
     },
     "execution_count": 523,
     "metadata": {},
     "output_type": "execute_result"
    }
   ],
   "source": [
    "df.isnull().sum()"
   ]
  },
  {
   "cell_type": "code",
   "execution_count": 524,
   "id": "ec76882b",
   "metadata": {},
   "outputs": [],
   "source": [
    "df['tr_milege']=np.log([x+1 for x in df['milege']])"
   ]
  },
  {
   "cell_type": "code",
   "execution_count": 525,
   "id": "d2fc8442",
   "metadata": {},
   "outputs": [],
   "source": [
    "df['tr_price']=np.log(df['price'])"
   ]
  },
  {
   "cell_type": "code",
   "execution_count": 526,
   "id": "d4f9f82a",
   "metadata": {},
   "outputs": [
    {
     "data": {
      "text/plain": [
       "registration Year    -0.733635\n",
       "model_year           -0.951499\n",
       "no_seats             15.430126\n",
       "kms                  14.835006\n",
       "milege                6.908193\n",
       "owner_no              1.834519\n",
       "price                 3.926368\n",
       "tr_no_seats           7.206658\n",
       "tr_kms               -1.063430\n",
       "tr_milege             4.750391\n",
       "tr_price              0.416705\n",
       "dtype: float64"
      ]
     },
     "execution_count": 526,
     "metadata": {},
     "output_type": "execute_result"
    }
   ],
   "source": [
    "df.skew()"
   ]
  },
  {
   "cell_type": "code",
   "execution_count": 420,
   "id": "4acbb481",
   "metadata": {},
   "outputs": [
    {
     "data": {
      "text/plain": [
       "Index(['registration Year', 'insurance', 'model', 'model_year', 'Engine_type',\n",
       "       'fuel_type', 'no_seats', 'kms', 'milege', 'color', 'owner_no', 'price',\n",
       "       'tr_registration Year', 'tr_no_seats', 'tr_kms', 'tr_milege',\n",
       "       'tr_price'],\n",
       "      dtype='object')"
      ]
     },
     "execution_count": 420,
     "metadata": {},
     "output_type": "execute_result"
    }
   ],
   "source": [
    "df.columns"
   ]
  },
  {
   "cell_type": "code",
   "execution_count": 423,
   "id": "07e2ffb0",
   "metadata": {},
   "outputs": [
    {
     "data": {
      "text/plain": [
       "Third Party insurance    3445\n",
       "Comprehensive            2441\n",
       "Third Party               527\n",
       "Not Available             219\n",
       "Zero Dep                  199\n",
       "Petrol                     40\n",
       "Diesel                      9\n",
       "1                           2\n",
       "2                           1\n",
       "Electric                    1\n",
       "Name: insurance, dtype: int64"
      ]
     },
     "execution_count": 423,
     "metadata": {},
     "output_type": "execute_result"
    }
   ],
   "source": [
    "df['insurance'].value_counts()"
   ]
  },
  {
   "cell_type": "code",
   "execution_count": 527,
   "id": "b5879261",
   "metadata": {},
   "outputs": [],
   "source": [
    "df = df.drop(df[df['insurance'] == 'Petrol'].index)\n",
    "df = df.drop(df[df['insurance'] == 'Diesel'].index)\n",
    "df = df.drop(df[df['insurance'] == '1'].index)\n",
    "df = df.drop(df[df['insurance'] == '2'].index)\n",
    "df = df.drop(df[df['insurance'] == 'Electric'].index)"
   ]
  },
  {
   "cell_type": "code",
   "execution_count": 574,
   "id": "e7af1a6d",
   "metadata": {},
   "outputs": [],
   "source": [
    "from sklearn.model_selection import train_test_split\n",
    "from sklearn.linear_model import LinearRegression\n",
    "from sklearn.tree import DecisionTreeRegressor\n",
    "from sklearn.ensemble import ExtraTreesRegressor\n",
    "from sklearn.ensemble import RandomForestRegressor\n",
    "from sklearn.preprocessing import OneHotEncoder\n",
    "from sklearn import preprocessing \n",
    "from sklearn.metrics import mean_squared_error,mean_absolute_error,r2_score"
   ]
  },
  {
   "cell_type": "code",
   "execution_count": 497,
   "id": "2edb1709",
   "metadata": {},
   "outputs": [
    {
     "data": {
      "text/plain": [
       "Index(['registration Year', 'insurance', 'model', 'model_year', 'Engine_type',\n",
       "       'fuel_type', 'no_seats', 'kms', 'milege', 'color', 'owner_no', 'price',\n",
       "       'tr_registration Year', 'tr_no_seats', 'tr_kms', 'tr_milege',\n",
       "       'tr_price'],\n",
       "      dtype='object')"
      ]
     },
     "execution_count": 497,
     "metadata": {},
     "output_type": "execute_result"
    }
   ],
   "source": [
    "df.columns"
   ]
  },
  {
   "cell_type": "code",
   "execution_count": 542,
   "id": "129b233f",
   "metadata": {},
   "outputs": [],
   "source": [
    "X=df[['registration Year','insurance','model','Engine_type','fuel_type','color','owner_no',\n",
    "     'tr_no_seats', 'tr_kms', 'tr_milege']]"
   ]
  },
  {
   "cell_type": "code",
   "execution_count": 543,
   "id": "4600bf98",
   "metadata": {},
   "outputs": [],
   "source": [
    "y=df['tr_price']"
   ]
  },
  {
   "cell_type": "code",
   "execution_count": 544,
   "id": "eadc5df0",
   "metadata": {},
   "outputs": [],
   "source": [
    "ohe_1 = OneHotEncoder(handle_unknown='ignore')\n",
    "x_ohe_1 = ohe_1.fit_transform(X[['model']]).toarray()\n"
   ]
  },
  {
   "cell_type": "code",
   "execution_count": null,
   "id": "57e87c34",
   "metadata": {},
   "outputs": [],
   "source": []
  },
  {
   "cell_type": "code",
   "execution_count": 546,
   "id": "f3cc80ef",
   "metadata": {},
   "outputs": [],
   "source": [
    "ohe_2 = OneHotEncoder(handle_unknown='ignore')\n",
    "x_ohe_2 = ohe_2.fit_transform(X[['Engine_type']]).toarray()\n"
   ]
  },
  {
   "cell_type": "code",
   "execution_count": 547,
   "id": "5375970d",
   "metadata": {},
   "outputs": [],
   "source": [
    "ohe_3 = OneHotEncoder(handle_unknown='ignore')\n",
    "x_ohe_3 = ohe_3.fit_transform(X[['color']]).toarray()\n"
   ]
  },
  {
   "cell_type": "code",
   "execution_count": null,
   "id": "70d9ece0",
   "metadata": {},
   "outputs": [],
   "source": []
  },
  {
   "cell_type": "code",
   "execution_count": 548,
   "id": "7d2661c1",
   "metadata": {},
   "outputs": [],
   "source": [
    "label_encoder = preprocessing.LabelEncoder()"
   ]
  },
  {
   "cell_type": "code",
   "execution_count": 550,
   "id": "6893bb33",
   "metadata": {},
   "outputs": [],
   "source": [
    "label_enc_colum=['insurance','fuel_type']\n",
    "for i in label_enc_colum:\n",
    "    df[i]=label_encoder.fit_transform(df[i])"
   ]
  },
  {
   "cell_type": "code",
   "execution_count": 551,
   "id": "0d065d2a",
   "metadata": {},
   "outputs": [
    {
     "data": {
      "text/html": [
       "<div>\n",
       "<style scoped>\n",
       "    .dataframe tbody tr th:only-of-type {\n",
       "        vertical-align: middle;\n",
       "    }\n",
       "\n",
       "    .dataframe tbody tr th {\n",
       "        vertical-align: top;\n",
       "    }\n",
       "\n",
       "    .dataframe thead th {\n",
       "        text-align: right;\n",
       "    }\n",
       "</style>\n",
       "<table border=\"1\" class=\"dataframe\">\n",
       "  <thead>\n",
       "    <tr style=\"text-align: right;\">\n",
       "      <th></th>\n",
       "      <th>registration Year</th>\n",
       "      <th>insurance</th>\n",
       "      <th>model</th>\n",
       "      <th>model_year</th>\n",
       "      <th>Engine_type</th>\n",
       "      <th>fuel_type</th>\n",
       "      <th>no_seats</th>\n",
       "      <th>kms</th>\n",
       "      <th>milege</th>\n",
       "      <th>color</th>\n",
       "      <th>owner_no</th>\n",
       "      <th>price</th>\n",
       "      <th>tr_no_seats</th>\n",
       "      <th>tr_kms</th>\n",
       "      <th>tr_milege</th>\n",
       "      <th>tr_price</th>\n",
       "    </tr>\n",
       "  </thead>\n",
       "  <tbody>\n",
       "    <tr>\n",
       "      <th>0</th>\n",
       "      <td>2015</td>\n",
       "      <td>3</td>\n",
       "      <td>Maruti Celerio</td>\n",
       "      <td>2015</td>\n",
       "      <td>K10B Engine</td>\n",
       "      <td>4</td>\n",
       "      <td>5</td>\n",
       "      <td>1</td>\n",
       "      <td>23</td>\n",
       "      <td>White</td>\n",
       "      <td>3</td>\n",
       "      <td>4</td>\n",
       "      <td>1.609438</td>\n",
       "      <td>0.693147</td>\n",
       "      <td>3.178054</td>\n",
       "      <td>1.386294</td>\n",
       "    </tr>\n",
       "    <tr>\n",
       "      <th>1</th>\n",
       "      <td>2018</td>\n",
       "      <td>0</td>\n",
       "      <td>Ford Ecosport</td>\n",
       "      <td>2018</td>\n",
       "      <td>Ti-VCT Petrol Engine</td>\n",
       "      <td>4</td>\n",
       "      <td>5</td>\n",
       "      <td>32</td>\n",
       "      <td>17</td>\n",
       "      <td>White</td>\n",
       "      <td>2</td>\n",
       "      <td>8</td>\n",
       "      <td>1.609438</td>\n",
       "      <td>3.496508</td>\n",
       "      <td>2.890372</td>\n",
       "      <td>2.079442</td>\n",
       "    </tr>\n",
       "    <tr>\n",
       "      <th>2</th>\n",
       "      <td>2018</td>\n",
       "      <td>0</td>\n",
       "      <td>Tata Tiago</td>\n",
       "      <td>2018</td>\n",
       "      <td>Revotron Engine</td>\n",
       "      <td>4</td>\n",
       "      <td>5</td>\n",
       "      <td>11</td>\n",
       "      <td>23</td>\n",
       "      <td>Red</td>\n",
       "      <td>1</td>\n",
       "      <td>5</td>\n",
       "      <td>1.609438</td>\n",
       "      <td>2.484907</td>\n",
       "      <td>3.178054</td>\n",
       "      <td>1.609438</td>\n",
       "    </tr>\n",
       "    <tr>\n",
       "      <th>3</th>\n",
       "      <td>2014</td>\n",
       "      <td>0</td>\n",
       "      <td>Hyundai Xcent</td>\n",
       "      <td>2014</td>\n",
       "      <td>Kappa VTVT Petrol Engine</td>\n",
       "      <td>4</td>\n",
       "      <td>5</td>\n",
       "      <td>17</td>\n",
       "      <td>19</td>\n",
       "      <td>Others</td>\n",
       "      <td>1</td>\n",
       "      <td>4</td>\n",
       "      <td>1.609438</td>\n",
       "      <td>2.890372</td>\n",
       "      <td>2.995732</td>\n",
       "      <td>1.386294</td>\n",
       "    </tr>\n",
       "    <tr>\n",
       "      <th>4</th>\n",
       "      <td>2015</td>\n",
       "      <td>3</td>\n",
       "      <td>Maruti SX4 S Cross</td>\n",
       "      <td>2015</td>\n",
       "      <td>DDiS 200 Diesel Engine</td>\n",
       "      <td>1</td>\n",
       "      <td>5</td>\n",
       "      <td>60</td>\n",
       "      <td>23</td>\n",
       "      <td>Gray</td>\n",
       "      <td>1</td>\n",
       "      <td>7</td>\n",
       "      <td>1.609438</td>\n",
       "      <td>4.110874</td>\n",
       "      <td>3.178054</td>\n",
       "      <td>1.945910</td>\n",
       "    </tr>\n",
       "    <tr>\n",
       "      <th>...</th>\n",
       "      <td>...</td>\n",
       "      <td>...</td>\n",
       "      <td>...</td>\n",
       "      <td>...</td>\n",
       "      <td>...</td>\n",
       "      <td>...</td>\n",
       "      <td>...</td>\n",
       "      <td>...</td>\n",
       "      <td>...</td>\n",
       "      <td>...</td>\n",
       "      <td>...</td>\n",
       "      <td>...</td>\n",
       "      <td>...</td>\n",
       "      <td>...</td>\n",
       "      <td>...</td>\n",
       "      <td>...</td>\n",
       "    </tr>\n",
       "    <tr>\n",
       "      <th>6879</th>\n",
       "      <td>2011</td>\n",
       "      <td>3</td>\n",
       "      <td>Chevrolet Beat</td>\n",
       "      <td>2011</td>\n",
       "      <td>Smartech Engine</td>\n",
       "      <td>4</td>\n",
       "      <td>5</td>\n",
       "      <td>1</td>\n",
       "      <td>18</td>\n",
       "      <td>Others</td>\n",
       "      <td>1</td>\n",
       "      <td>1</td>\n",
       "      <td>1.609438</td>\n",
       "      <td>0.693147</td>\n",
       "      <td>2.944439</td>\n",
       "      <td>0.000000</td>\n",
       "    </tr>\n",
       "    <tr>\n",
       "      <th>6880</th>\n",
       "      <td>2007</td>\n",
       "      <td>3</td>\n",
       "      <td>Maruti Alto</td>\n",
       "      <td>2007</td>\n",
       "      <td>In-Line Engine</td>\n",
       "      <td>4</td>\n",
       "      <td>5</td>\n",
       "      <td>70</td>\n",
       "      <td>19</td>\n",
       "      <td>Others</td>\n",
       "      <td>1</td>\n",
       "      <td>1</td>\n",
       "      <td>1.609438</td>\n",
       "      <td>4.262680</td>\n",
       "      <td>2.995732</td>\n",
       "      <td>0.000000</td>\n",
       "    </tr>\n",
       "    <tr>\n",
       "      <th>6881</th>\n",
       "      <td>2022</td>\n",
       "      <td>3</td>\n",
       "      <td>Renault Kiger</td>\n",
       "      <td>2022</td>\n",
       "      <td>1.0L energy</td>\n",
       "      <td>4</td>\n",
       "      <td>5</td>\n",
       "      <td>20</td>\n",
       "      <td>19</td>\n",
       "      <td>Others</td>\n",
       "      <td>1</td>\n",
       "      <td>8</td>\n",
       "      <td>1.609438</td>\n",
       "      <td>3.044522</td>\n",
       "      <td>2.995732</td>\n",
       "      <td>2.079442</td>\n",
       "    </tr>\n",
       "    <tr>\n",
       "      <th>6882</th>\n",
       "      <td>2009</td>\n",
       "      <td>3</td>\n",
       "      <td>Maruti Alto</td>\n",
       "      <td>2009</td>\n",
       "      <td>In-Line Engine</td>\n",
       "      <td>4</td>\n",
       "      <td>5</td>\n",
       "      <td>40</td>\n",
       "      <td>19</td>\n",
       "      <td>Others</td>\n",
       "      <td>1</td>\n",
       "      <td>1</td>\n",
       "      <td>1.609438</td>\n",
       "      <td>3.713572</td>\n",
       "      <td>2.995732</td>\n",
       "      <td>0.000000</td>\n",
       "    </tr>\n",
       "    <tr>\n",
       "      <th>6883</th>\n",
       "      <td>2018</td>\n",
       "      <td>3</td>\n",
       "      <td>Maruti Baleno</td>\n",
       "      <td>2018</td>\n",
       "      <td>VVT Petrol Engine</td>\n",
       "      <td>4</td>\n",
       "      <td>5</td>\n",
       "      <td>80</td>\n",
       "      <td>21</td>\n",
       "      <td>Others</td>\n",
       "      <td>1</td>\n",
       "      <td>5</td>\n",
       "      <td>1.609438</td>\n",
       "      <td>4.394449</td>\n",
       "      <td>3.091042</td>\n",
       "      <td>1.609438</td>\n",
       "    </tr>\n",
       "  </tbody>\n",
       "</table>\n",
       "<p>6831 rows × 16 columns</p>\n",
       "</div>"
      ],
      "text/plain": [
       "      registration Year  insurance               model  model_year  \\\n",
       "0                  2015          3      Maruti Celerio        2015   \n",
       "1                  2018          0       Ford Ecosport        2018   \n",
       "2                  2018          0          Tata Tiago        2018   \n",
       "3                  2014          0       Hyundai Xcent        2014   \n",
       "4                  2015          3  Maruti SX4 S Cross        2015   \n",
       "...                 ...        ...                 ...         ...   \n",
       "6879               2011          3      Chevrolet Beat        2011   \n",
       "6880               2007          3         Maruti Alto        2007   \n",
       "6881               2022          3       Renault Kiger        2022   \n",
       "6882               2009          3         Maruti Alto        2009   \n",
       "6883               2018          3       Maruti Baleno        2018   \n",
       "\n",
       "                   Engine_type  fuel_type  no_seats  kms  milege   color  \\\n",
       "0                  K10B Engine          4         5    1      23   White   \n",
       "1         Ti-VCT Petrol Engine          4         5   32      17   White   \n",
       "2              Revotron Engine          4         5   11      23     Red   \n",
       "3     Kappa VTVT Petrol Engine          4         5   17      19  Others   \n",
       "4       DDiS 200 Diesel Engine          1         5   60      23    Gray   \n",
       "...                        ...        ...       ...  ...     ...     ...   \n",
       "6879           Smartech Engine          4         5    1      18  Others   \n",
       "6880            In-Line Engine          4         5   70      19  Others   \n",
       "6881               1.0L energy          4         5   20      19  Others   \n",
       "6882            In-Line Engine          4         5   40      19  Others   \n",
       "6883         VVT Petrol Engine          4         5   80      21  Others   \n",
       "\n",
       "      owner_no  price  tr_no_seats    tr_kms  tr_milege  tr_price  \n",
       "0            3      4     1.609438  0.693147   3.178054  1.386294  \n",
       "1            2      8     1.609438  3.496508   2.890372  2.079442  \n",
       "2            1      5     1.609438  2.484907   3.178054  1.609438  \n",
       "3            1      4     1.609438  2.890372   2.995732  1.386294  \n",
       "4            1      7     1.609438  4.110874   3.178054  1.945910  \n",
       "...        ...    ...          ...       ...        ...       ...  \n",
       "6879         1      1     1.609438  0.693147   2.944439  0.000000  \n",
       "6880         1      1     1.609438  4.262680   2.995732  0.000000  \n",
       "6881         1      8     1.609438  3.044522   2.995732  2.079442  \n",
       "6882         1      1     1.609438  3.713572   2.995732  0.000000  \n",
       "6883         1      5     1.609438  4.394449   3.091042  1.609438  \n",
       "\n",
       "[6831 rows x 16 columns]"
      ]
     },
     "execution_count": 551,
     "metadata": {},
     "output_type": "execute_result"
    }
   ],
   "source": [
    "df"
   ]
  },
  {
   "cell_type": "code",
   "execution_count": null,
   "id": "16b74121",
   "metadata": {},
   "outputs": [],
   "source": []
  },
  {
   "cell_type": "code",
   "execution_count": 552,
   "id": "3fd06583",
   "metadata": {},
   "outputs": [],
   "source": [
    "X = np.concatenate((df[['registration Year','insurance','fuel_type','owner_no',\n",
    "     'tr_no_seats','tr_kms','tr_milege']].values,x_ohe_1,x_ohe_2,x_ohe_3), axis=1)\n",
    "x_train, x_test, y_train, y_test = train_test_split(X, y, test_size=0.2, random_state=4)\n"
   ]
  },
  {
   "cell_type": "code",
   "execution_count": null,
   "id": "b6260ed6",
   "metadata": {},
   "outputs": [],
   "source": []
  },
  {
   "cell_type": "code",
   "execution_count": 553,
   "id": "893aedeb",
   "metadata": {},
   "outputs": [],
   "source": [
    "lr=LinearRegression()\n",
    "lr.fit(x_train,y_train)\n",
    "pred=lr.predict(x_test)\n"
   ]
  },
  {
   "cell_type": "code",
   "execution_count": 554,
   "id": "9c291619",
   "metadata": {},
   "outputs": [],
   "source": [
    "r_2=r2_score(y_test, pred)\n",
    "\n",
    "mse=mean_squared_error(y_test, pred)\n",
    "\n",
    "mae=mean_absolute_error(y_test, pred)"
   ]
  },
  {
   "cell_type": "code",
   "execution_count": 555,
   "id": "a8985bca",
   "metadata": {},
   "outputs": [
    {
     "data": {
      "text/plain": [
       "6.705233170838288e+20"
      ]
     },
     "execution_count": 555,
     "metadata": {},
     "output_type": "execute_result"
    }
   ],
   "source": [
    "mse"
   ]
  },
  {
   "cell_type": "code",
   "execution_count": 556,
   "id": "14f9c946",
   "metadata": {},
   "outputs": [
    {
     "data": {
      "text/plain": [
       "2366608674.7071915"
      ]
     },
     "execution_count": 556,
     "metadata": {},
     "output_type": "execute_result"
    }
   ],
   "source": [
    "mae"
   ]
  },
  {
   "cell_type": "code",
   "execution_count": 558,
   "id": "f450e920",
   "metadata": {},
   "outputs": [
    {
     "data": {
      "text/plain": [
       "-9.063146303340269e+20"
      ]
     },
     "execution_count": 558,
     "metadata": {},
     "output_type": "execute_result"
    }
   ],
   "source": [
    "r_2"
   ]
  },
  {
   "cell_type": "code",
   "execution_count": 559,
   "id": "76f596bf",
   "metadata": {},
   "outputs": [],
   "source": [
    "dt=DecisionTreeRegressor()"
   ]
  },
  {
   "cell_type": "code",
   "execution_count": 561,
   "id": "f7fd8ba2",
   "metadata": {},
   "outputs": [],
   "source": [
    "dt.fit(x_train,y_train)\n",
    "predict=dt.predict(x_test)\n"
   ]
  },
  {
   "cell_type": "code",
   "execution_count": 562,
   "id": "2ae28d48",
   "metadata": {},
   "outputs": [],
   "source": [
    "r_2=r2_score(y_test, predict)\n",
    "\n",
    "mse=mean_squared_error(y_test, predict)\n",
    "\n",
    "mae=mean_absolute_error(y_test, predict)"
   ]
  },
  {
   "cell_type": "code",
   "execution_count": 563,
   "id": "c4d64c82",
   "metadata": {},
   "outputs": [
    {
     "data": {
      "text/plain": [
       "0.47365163043869474"
      ]
     },
     "execution_count": 563,
     "metadata": {},
     "output_type": "execute_result"
    }
   ],
   "source": [
    "r_2"
   ]
  },
  {
   "cell_type": "code",
   "execution_count": 564,
   "id": "8373c272",
   "metadata": {},
   "outputs": [
    {
     "data": {
      "text/plain": [
       "0.3894109648984014"
      ]
     },
     "execution_count": 564,
     "metadata": {},
     "output_type": "execute_result"
    }
   ],
   "source": [
    "mse"
   ]
  },
  {
   "cell_type": "code",
   "execution_count": 566,
   "id": "0a3a06df",
   "metadata": {},
   "outputs": [
    {
     "data": {
      "text/plain": [
       "0.30415266045461786"
      ]
     },
     "execution_count": 566,
     "metadata": {},
     "output_type": "execute_result"
    }
   ],
   "source": [
    "mae"
   ]
  },
  {
   "cell_type": "code",
   "execution_count": 567,
   "id": "877e47c9",
   "metadata": {},
   "outputs": [],
   "source": [
    "rf=RandomForestRegressor()"
   ]
  },
  {
   "cell_type": "code",
   "execution_count": 568,
   "id": "81a73fce",
   "metadata": {},
   "outputs": [],
   "source": [
    "rf.fit(x_train,y_train)\n",
    "predi=rf.predict(x_test)\n"
   ]
  },
  {
   "cell_type": "code",
   "execution_count": 569,
   "id": "a8df65f4",
   "metadata": {},
   "outputs": [],
   "source": [
    "r_2=r2_score(y_test, predi)\n",
    "\n",
    "mse=mean_squared_error(y_test, predi)\n",
    "\n",
    "mae=mean_absolute_error(y_test, predi)"
   ]
  },
  {
   "cell_type": "code",
   "execution_count": 570,
   "id": "9594bcb4",
   "metadata": {},
   "outputs": [
    {
     "data": {
      "text/plain": [
       "0.6193484595692464"
      ]
     },
     "execution_count": 570,
     "metadata": {},
     "output_type": "execute_result"
    }
   ],
   "source": [
    "r_2"
   ]
  },
  {
   "cell_type": "code",
   "execution_count": 571,
   "id": "9cc20f66",
   "metadata": {},
   "outputs": [
    {
     "data": {
      "text/plain": [
       "0.28161934608583955"
      ]
     },
     "execution_count": 571,
     "metadata": {},
     "output_type": "execute_result"
    }
   ],
   "source": [
    "mse"
   ]
  },
  {
   "cell_type": "code",
   "execution_count": 572,
   "id": "96561d80",
   "metadata": {},
   "outputs": [
    {
     "data": {
      "text/plain": [
       "0.26791341098513644"
      ]
     },
     "execution_count": 572,
     "metadata": {},
     "output_type": "execute_result"
    }
   ],
   "source": [
    "mae"
   ]
  },
  {
   "cell_type": "code",
   "execution_count": 575,
   "id": "7432a890",
   "metadata": {},
   "outputs": [],
   "source": [
    "et=ExtraTreesRegressor()"
   ]
  },
  {
   "cell_type": "code",
   "execution_count": 576,
   "id": "cec9bdd7",
   "metadata": {},
   "outputs": [],
   "source": [
    "et.fit(x_train,y_train)\n",
    "pred_e=et.predict(x_test)"
   ]
  },
  {
   "cell_type": "code",
   "execution_count": 577,
   "id": "36b06dd9",
   "metadata": {},
   "outputs": [],
   "source": [
    "r_2=r2_score(y_test, pred_e)\n",
    "\n",
    "mse=mean_squared_error(y_test, pred_e)\n",
    "\n",
    "mae=mean_absolute_error(y_test, pred_e)"
   ]
  },
  {
   "cell_type": "code",
   "execution_count": 578,
   "id": "67b6a336",
   "metadata": {},
   "outputs": [
    {
     "data": {
      "text/plain": [
       "0.5821574761241901"
      ]
     },
     "execution_count": 578,
     "metadata": {},
     "output_type": "execute_result"
    }
   ],
   "source": [
    "r_2"
   ]
  },
  {
   "cell_type": "code",
   "execution_count": 579,
   "id": "0e673c8f",
   "metadata": {},
   "outputs": [
    {
     "data": {
      "text/plain": [
       "0.3091345386586419"
      ]
     },
     "execution_count": 579,
     "metadata": {},
     "output_type": "execute_result"
    }
   ],
   "source": [
    "mse"
   ]
  },
  {
   "cell_type": "code",
   "execution_count": 580,
   "id": "96c26377",
   "metadata": {},
   "outputs": [
    {
     "data": {
      "text/plain": [
       "0.26984195962004465"
      ]
     },
     "execution_count": 580,
     "metadata": {},
     "output_type": "execute_result"
    }
   ],
   "source": [
    "mae"
   ]
  },
  {
   "cell_type": "code",
   "execution_count": 581,
   "id": "1e97d6f6",
   "metadata": {},
   "outputs": [],
   "source": [
    "from sklearn.model_selection import RandomizedSearchCV\n",
    "# Number of trees in random forest\n",
    "n_estimators = [int(x) for x in np.linspace(start = 200, stop = 2000, num = 10)]\n",
    "# Number of features to consider at every split\n",
    "max_features = ['auto', 'sqrt']\n",
    "# Maximum number of levels in tree\n",
    "max_depth = [int(x) for x in np.linspace(10, 110, num = 11)]\n",
    "max_depth.append(None)\n",
    "# Minimum number of samples required to split a node\n",
    "min_samples_split = [2, 5, 10]\n",
    "# Minimum number of samples required at each leaf node\n",
    "min_samples_leaf = [1, 2, 4]\n",
    "# Method of selecting samples for training each tree\n",
    "bootstrap = [True, False]\n",
    "# Create the random grid\n",
    "random_grid = {'n_estimators': n_estimators,\n",
    "               'max_features': max_features,\n",
    "               'max_depth': max_depth,\n",
    "               'min_samples_split': min_samples_split,\n",
    "               'min_samples_leaf': min_samples_leaf,\n",
    "               'bootstrap': bootstrap}\n"
   ]
  },
  {
   "cell_type": "code",
   "execution_count": null,
   "id": "0629e905",
   "metadata": {},
   "outputs": [
    {
     "name": "stdout",
     "output_type": "stream",
     "text": [
      "Fitting 3 folds for each of 100 candidates, totalling 300 fits\n"
     ]
    },
    {
     "name": "stderr",
     "output_type": "stream",
     "text": [
      "/Users/xaviersavarimuthu/anaconda3/lib/python3.10/site-packages/sklearn/ensemble/_forest.py:413: FutureWarning: `max_features='auto'` has been deprecated in 1.1 and will be removed in 1.3. To keep the past behaviour, explicitly set `max_features=1.0` or remove this parameter as it is also the default value for RandomForestRegressors and ExtraTreesRegressors.\n",
      "  warn(\n",
      "/Users/xaviersavarimuthu/anaconda3/lib/python3.10/site-packages/sklearn/ensemble/_forest.py:413: FutureWarning: `max_features='auto'` has been deprecated in 1.1 and will be removed in 1.3. To keep the past behaviour, explicitly set `max_features=1.0` or remove this parameter as it is also the default value for RandomForestRegressors and ExtraTreesRegressors.\n",
      "  warn(\n",
      "/Users/xaviersavarimuthu/anaconda3/lib/python3.10/site-packages/sklearn/ensemble/_forest.py:413: FutureWarning: `max_features='auto'` has been deprecated in 1.1 and will be removed in 1.3. To keep the past behaviour, explicitly set `max_features=1.0` or remove this parameter as it is also the default value for RandomForestRegressors and ExtraTreesRegressors.\n",
      "  warn(\n",
      "/Users/xaviersavarimuthu/anaconda3/lib/python3.10/site-packages/sklearn/ensemble/_forest.py:413: FutureWarning: `max_features='auto'` has been deprecated in 1.1 and will be removed in 1.3. To keep the past behaviour, explicitly set `max_features=1.0` or remove this parameter as it is also the default value for RandomForestRegressors and ExtraTreesRegressors.\n",
      "  warn(\n",
      "/Users/xaviersavarimuthu/anaconda3/lib/python3.10/site-packages/sklearn/ensemble/_forest.py:413: FutureWarning: `max_features='auto'` has been deprecated in 1.1 and will be removed in 1.3. To keep the past behaviour, explicitly set `max_features=1.0` or remove this parameter as it is also the default value for RandomForestRegressors and ExtraTreesRegressors.\n",
      "  warn(\n",
      "/Users/xaviersavarimuthu/anaconda3/lib/python3.10/site-packages/sklearn/ensemble/_forest.py:413: FutureWarning: `max_features='auto'` has been deprecated in 1.1 and will be removed in 1.3. To keep the past behaviour, explicitly set `max_features=1.0` or remove this parameter as it is also the default value for RandomForestRegressors and ExtraTreesRegressors.\n",
      "  warn(\n",
      "/Users/xaviersavarimuthu/anaconda3/lib/python3.10/site-packages/sklearn/ensemble/_forest.py:413: FutureWarning: `max_features='auto'` has been deprecated in 1.1 and will be removed in 1.3. To keep the past behaviour, explicitly set `max_features=1.0` or remove this parameter as it is also the default value for RandomForestRegressors and ExtraTreesRegressors.\n",
      "  warn(\n",
      "/Users/xaviersavarimuthu/anaconda3/lib/python3.10/site-packages/sklearn/ensemble/_forest.py:413: FutureWarning: `max_features='auto'` has been deprecated in 1.1 and will be removed in 1.3. To keep the past behaviour, explicitly set `max_features=1.0` or remove this parameter as it is also the default value for RandomForestRegressors and ExtraTreesRegressors.\n",
      "  warn(\n",
      "/Users/xaviersavarimuthu/anaconda3/lib/python3.10/site-packages/sklearn/ensemble/_forest.py:413: FutureWarning: `max_features='auto'` has been deprecated in 1.1 and will be removed in 1.3. To keep the past behaviour, explicitly set `max_features=1.0` or remove this parameter as it is also the default value for RandomForestRegressors and ExtraTreesRegressors.\n",
      "  warn(\n",
      "/Users/xaviersavarimuthu/anaconda3/lib/python3.10/site-packages/sklearn/ensemble/_forest.py:413: FutureWarning: `max_features='auto'` has been deprecated in 1.1 and will be removed in 1.3. To keep the past behaviour, explicitly set `max_features=1.0` or remove this parameter as it is also the default value for RandomForestRegressors and ExtraTreesRegressors.\n",
      "  warn(\n",
      "/Users/xaviersavarimuthu/anaconda3/lib/python3.10/site-packages/sklearn/ensemble/_forest.py:413: FutureWarning: `max_features='auto'` has been deprecated in 1.1 and will be removed in 1.3. To keep the past behaviour, explicitly set `max_features=1.0` or remove this parameter as it is also the default value for RandomForestRegressors and ExtraTreesRegressors.\n",
      "  warn(\n",
      "/Users/xaviersavarimuthu/anaconda3/lib/python3.10/site-packages/sklearn/ensemble/_forest.py:413: FutureWarning: `max_features='auto'` has been deprecated in 1.1 and will be removed in 1.3. To keep the past behaviour, explicitly set `max_features=1.0` or remove this parameter as it is also the default value for RandomForestRegressors and ExtraTreesRegressors.\n",
      "  warn(\n",
      "/Users/xaviersavarimuthu/anaconda3/lib/python3.10/site-packages/sklearn/ensemble/_forest.py:413: FutureWarning: `max_features='auto'` has been deprecated in 1.1 and will be removed in 1.3. To keep the past behaviour, explicitly set `max_features=1.0` or remove this parameter as it is also the default value for RandomForestRegressors and ExtraTreesRegressors.\n",
      "  warn(\n",
      "/Users/xaviersavarimuthu/anaconda3/lib/python3.10/site-packages/sklearn/ensemble/_forest.py:413: FutureWarning: `max_features='auto'` has been deprecated in 1.1 and will be removed in 1.3. To keep the past behaviour, explicitly set `max_features=1.0` or remove this parameter as it is also the default value for RandomForestRegressors and ExtraTreesRegressors.\n",
      "  warn(\n",
      "/Users/xaviersavarimuthu/anaconda3/lib/python3.10/site-packages/sklearn/ensemble/_forest.py:413: FutureWarning: `max_features='auto'` has been deprecated in 1.1 and will be removed in 1.3. To keep the past behaviour, explicitly set `max_features=1.0` or remove this parameter as it is also the default value for RandomForestRegressors and ExtraTreesRegressors.\n",
      "  warn(\n",
      "/Users/xaviersavarimuthu/anaconda3/lib/python3.10/site-packages/sklearn/ensemble/_forest.py:413: FutureWarning: `max_features='auto'` has been deprecated in 1.1 and will be removed in 1.3. To keep the past behaviour, explicitly set `max_features=1.0` or remove this parameter as it is also the default value for RandomForestRegressors and ExtraTreesRegressors.\n",
      "  warn(\n",
      "/Users/xaviersavarimuthu/anaconda3/lib/python3.10/site-packages/sklearn/ensemble/_forest.py:413: FutureWarning: `max_features='auto'` has been deprecated in 1.1 and will be removed in 1.3. To keep the past behaviour, explicitly set `max_features=1.0` or remove this parameter as it is also the default value for RandomForestRegressors and ExtraTreesRegressors.\n",
      "  warn(\n",
      "/Users/xaviersavarimuthu/anaconda3/lib/python3.10/site-packages/sklearn/ensemble/_forest.py:413: FutureWarning: `max_features='auto'` has been deprecated in 1.1 and will be removed in 1.3. To keep the past behaviour, explicitly set `max_features=1.0` or remove this parameter as it is also the default value for RandomForestRegressors and ExtraTreesRegressors.\n",
      "  warn(\n",
      "/Users/xaviersavarimuthu/anaconda3/lib/python3.10/site-packages/sklearn/ensemble/_forest.py:413: FutureWarning: `max_features='auto'` has been deprecated in 1.1 and will be removed in 1.3. To keep the past behaviour, explicitly set `max_features=1.0` or remove this parameter as it is also the default value for RandomForestRegressors and ExtraTreesRegressors.\n",
      "  warn(\n",
      "/Users/xaviersavarimuthu/anaconda3/lib/python3.10/site-packages/sklearn/ensemble/_forest.py:413: FutureWarning: `max_features='auto'` has been deprecated in 1.1 and will be removed in 1.3. To keep the past behaviour, explicitly set `max_features=1.0` or remove this parameter as it is also the default value for RandomForestRegressors and ExtraTreesRegressors.\n",
      "  warn(\n",
      "/Users/xaviersavarimuthu/anaconda3/lib/python3.10/site-packages/sklearn/ensemble/_forest.py:413: FutureWarning: `max_features='auto'` has been deprecated in 1.1 and will be removed in 1.3. To keep the past behaviour, explicitly set `max_features=1.0` or remove this parameter as it is also the default value for RandomForestRegressors and ExtraTreesRegressors.\n",
      "  warn(\n",
      "/Users/xaviersavarimuthu/anaconda3/lib/python3.10/site-packages/sklearn/ensemble/_forest.py:413: FutureWarning: `max_features='auto'` has been deprecated in 1.1 and will be removed in 1.3. To keep the past behaviour, explicitly set `max_features=1.0` or remove this parameter as it is also the default value for RandomForestRegressors and ExtraTreesRegressors.\n",
      "  warn(\n",
      "/Users/xaviersavarimuthu/anaconda3/lib/python3.10/site-packages/sklearn/ensemble/_forest.py:413: FutureWarning: `max_features='auto'` has been deprecated in 1.1 and will be removed in 1.3. To keep the past behaviour, explicitly set `max_features=1.0` or remove this parameter as it is also the default value for RandomForestRegressors and ExtraTreesRegressors.\n",
      "  warn(\n"
     ]
    },
    {
     "name": "stderr",
     "output_type": "stream",
     "text": [
      "/Users/xaviersavarimuthu/anaconda3/lib/python3.10/site-packages/sklearn/ensemble/_forest.py:413: FutureWarning: `max_features='auto'` has been deprecated in 1.1 and will be removed in 1.3. To keep the past behaviour, explicitly set `max_features=1.0` or remove this parameter as it is also the default value for RandomForestRegressors and ExtraTreesRegressors.\n",
      "  warn(\n",
      "/Users/xaviersavarimuthu/anaconda3/lib/python3.10/site-packages/sklearn/ensemble/_forest.py:413: FutureWarning: `max_features='auto'` has been deprecated in 1.1 and will be removed in 1.3. To keep the past behaviour, explicitly set `max_features=1.0` or remove this parameter as it is also the default value for RandomForestRegressors and ExtraTreesRegressors.\n",
      "  warn(\n",
      "/Users/xaviersavarimuthu/anaconda3/lib/python3.10/site-packages/sklearn/ensemble/_forest.py:413: FutureWarning: `max_features='auto'` has been deprecated in 1.1 and will be removed in 1.3. To keep the past behaviour, explicitly set `max_features=1.0` or remove this parameter as it is also the default value for RandomForestRegressors and ExtraTreesRegressors.\n",
      "  warn(\n",
      "/Users/xaviersavarimuthu/anaconda3/lib/python3.10/site-packages/sklearn/ensemble/_forest.py:413: FutureWarning: `max_features='auto'` has been deprecated in 1.1 and will be removed in 1.3. To keep the past behaviour, explicitly set `max_features=1.0` or remove this parameter as it is also the default value for RandomForestRegressors and ExtraTreesRegressors.\n",
      "  warn(\n",
      "/Users/xaviersavarimuthu/anaconda3/lib/python3.10/site-packages/sklearn/ensemble/_forest.py:413: FutureWarning: `max_features='auto'` has been deprecated in 1.1 and will be removed in 1.3. To keep the past behaviour, explicitly set `max_features=1.0` or remove this parameter as it is also the default value for RandomForestRegressors and ExtraTreesRegressors.\n",
      "  warn(\n",
      "/Users/xaviersavarimuthu/anaconda3/lib/python3.10/site-packages/sklearn/ensemble/_forest.py:413: FutureWarning: `max_features='auto'` has been deprecated in 1.1 and will be removed in 1.3. To keep the past behaviour, explicitly set `max_features=1.0` or remove this parameter as it is also the default value for RandomForestRegressors and ExtraTreesRegressors.\n",
      "  warn(\n",
      "/Users/xaviersavarimuthu/anaconda3/lib/python3.10/site-packages/sklearn/ensemble/_forest.py:413: FutureWarning: `max_features='auto'` has been deprecated in 1.1 and will be removed in 1.3. To keep the past behaviour, explicitly set `max_features=1.0` or remove this parameter as it is also the default value for RandomForestRegressors and ExtraTreesRegressors.\n",
      "  warn(\n",
      "/Users/xaviersavarimuthu/anaconda3/lib/python3.10/site-packages/sklearn/ensemble/_forest.py:413: FutureWarning: `max_features='auto'` has been deprecated in 1.1 and will be removed in 1.3. To keep the past behaviour, explicitly set `max_features=1.0` or remove this parameter as it is also the default value for RandomForestRegressors and ExtraTreesRegressors.\n",
      "  warn(\n",
      "/Users/xaviersavarimuthu/anaconda3/lib/python3.10/site-packages/sklearn/ensemble/_forest.py:413: FutureWarning: `max_features='auto'` has been deprecated in 1.1 and will be removed in 1.3. To keep the past behaviour, explicitly set `max_features=1.0` or remove this parameter as it is also the default value for RandomForestRegressors and ExtraTreesRegressors.\n",
      "  warn(\n",
      "/Users/xaviersavarimuthu/anaconda3/lib/python3.10/site-packages/sklearn/ensemble/_forest.py:413: FutureWarning: `max_features='auto'` has been deprecated in 1.1 and will be removed in 1.3. To keep the past behaviour, explicitly set `max_features=1.0` or remove this parameter as it is also the default value for RandomForestRegressors and ExtraTreesRegressors.\n",
      "  warn(\n",
      "/Users/xaviersavarimuthu/anaconda3/lib/python3.10/site-packages/sklearn/ensemble/_forest.py:413: FutureWarning: `max_features='auto'` has been deprecated in 1.1 and will be removed in 1.3. To keep the past behaviour, explicitly set `max_features=1.0` or remove this parameter as it is also the default value for RandomForestRegressors and ExtraTreesRegressors.\n",
      "  warn(\n",
      "/Users/xaviersavarimuthu/anaconda3/lib/python3.10/site-packages/sklearn/ensemble/_forest.py:413: FutureWarning: `max_features='auto'` has been deprecated in 1.1 and will be removed in 1.3. To keep the past behaviour, explicitly set `max_features=1.0` or remove this parameter as it is also the default value for RandomForestRegressors and ExtraTreesRegressors.\n",
      "  warn(\n",
      "/Users/xaviersavarimuthu/anaconda3/lib/python3.10/site-packages/sklearn/ensemble/_forest.py:413: FutureWarning: `max_features='auto'` has been deprecated in 1.1 and will be removed in 1.3. To keep the past behaviour, explicitly set `max_features=1.0` or remove this parameter as it is also the default value for RandomForestRegressors and ExtraTreesRegressors.\n",
      "  warn(\n",
      "/Users/xaviersavarimuthu/anaconda3/lib/python3.10/site-packages/sklearn/ensemble/_forest.py:413: FutureWarning: `max_features='auto'` has been deprecated in 1.1 and will be removed in 1.3. To keep the past behaviour, explicitly set `max_features=1.0` or remove this parameter as it is also the default value for RandomForestRegressors and ExtraTreesRegressors.\n",
      "  warn(\n",
      "/Users/xaviersavarimuthu/anaconda3/lib/python3.10/site-packages/sklearn/ensemble/_forest.py:413: FutureWarning: `max_features='auto'` has been deprecated in 1.1 and will be removed in 1.3. To keep the past behaviour, explicitly set `max_features=1.0` or remove this parameter as it is also the default value for RandomForestRegressors and ExtraTreesRegressors.\n",
      "  warn(\n",
      "/Users/xaviersavarimuthu/anaconda3/lib/python3.10/site-packages/sklearn/ensemble/_forest.py:413: FutureWarning: `max_features='auto'` has been deprecated in 1.1 and will be removed in 1.3. To keep the past behaviour, explicitly set `max_features=1.0` or remove this parameter as it is also the default value for RandomForestRegressors and ExtraTreesRegressors.\n",
      "  warn(\n",
      "/Users/xaviersavarimuthu/anaconda3/lib/python3.10/site-packages/sklearn/ensemble/_forest.py:413: FutureWarning: `max_features='auto'` has been deprecated in 1.1 and will be removed in 1.3. To keep the past behaviour, explicitly set `max_features=1.0` or remove this parameter as it is also the default value for RandomForestRegressors and ExtraTreesRegressors.\n",
      "  warn(\n",
      "/Users/xaviersavarimuthu/anaconda3/lib/python3.10/site-packages/sklearn/ensemble/_forest.py:413: FutureWarning: `max_features='auto'` has been deprecated in 1.1 and will be removed in 1.3. To keep the past behaviour, explicitly set `max_features=1.0` or remove this parameter as it is also the default value for RandomForestRegressors and ExtraTreesRegressors.\n",
      "  warn(\n",
      "/Users/xaviersavarimuthu/anaconda3/lib/python3.10/site-packages/sklearn/ensemble/_forest.py:413: FutureWarning: `max_features='auto'` has been deprecated in 1.1 and will be removed in 1.3. To keep the past behaviour, explicitly set `max_features=1.0` or remove this parameter as it is also the default value for RandomForestRegressors and ExtraTreesRegressors.\n",
      "  warn(\n",
      "/Users/xaviersavarimuthu/anaconda3/lib/python3.10/site-packages/sklearn/ensemble/_forest.py:413: FutureWarning: `max_features='auto'` has been deprecated in 1.1 and will be removed in 1.3. To keep the past behaviour, explicitly set `max_features=1.0` or remove this parameter as it is also the default value for RandomForestRegressors and ExtraTreesRegressors.\n",
      "  warn(\n",
      "/Users/xaviersavarimuthu/anaconda3/lib/python3.10/site-packages/sklearn/ensemble/_forest.py:413: FutureWarning: `max_features='auto'` has been deprecated in 1.1 and will be removed in 1.3. To keep the past behaviour, explicitly set `max_features=1.0` or remove this parameter as it is also the default value for RandomForestRegressors and ExtraTreesRegressors.\n",
      "  warn(\n",
      "/Users/xaviersavarimuthu/anaconda3/lib/python3.10/site-packages/sklearn/ensemble/_forest.py:413: FutureWarning: `max_features='auto'` has been deprecated in 1.1 and will be removed in 1.3. To keep the past behaviour, explicitly set `max_features=1.0` or remove this parameter as it is also the default value for RandomForestRegressors and ExtraTreesRegressors.\n",
      "  warn(\n",
      "/Users/xaviersavarimuthu/anaconda3/lib/python3.10/site-packages/sklearn/ensemble/_forest.py:413: FutureWarning: `max_features='auto'` has been deprecated in 1.1 and will be removed in 1.3. To keep the past behaviour, explicitly set `max_features=1.0` or remove this parameter as it is also the default value for RandomForestRegressors and ExtraTreesRegressors.\n",
      "  warn(\n"
     ]
    },
    {
     "name": "stderr",
     "output_type": "stream",
     "text": [
      "/Users/xaviersavarimuthu/anaconda3/lib/python3.10/site-packages/sklearn/ensemble/_forest.py:413: FutureWarning: `max_features='auto'` has been deprecated in 1.1 and will be removed in 1.3. To keep the past behaviour, explicitly set `max_features=1.0` or remove this parameter as it is also the default value for RandomForestRegressors and ExtraTreesRegressors.\n",
      "  warn(\n",
      "/Users/xaviersavarimuthu/anaconda3/lib/python3.10/site-packages/sklearn/ensemble/_forest.py:413: FutureWarning: `max_features='auto'` has been deprecated in 1.1 and will be removed in 1.3. To keep the past behaviour, explicitly set `max_features=1.0` or remove this parameter as it is also the default value for RandomForestRegressors and ExtraTreesRegressors.\n",
      "  warn(\n",
      "/Users/xaviersavarimuthu/anaconda3/lib/python3.10/site-packages/sklearn/ensemble/_forest.py:413: FutureWarning: `max_features='auto'` has been deprecated in 1.1 and will be removed in 1.3. To keep the past behaviour, explicitly set `max_features=1.0` or remove this parameter as it is also the default value for RandomForestRegressors and ExtraTreesRegressors.\n",
      "  warn(\n",
      "/Users/xaviersavarimuthu/anaconda3/lib/python3.10/site-packages/sklearn/ensemble/_forest.py:413: FutureWarning: `max_features='auto'` has been deprecated in 1.1 and will be removed in 1.3. To keep the past behaviour, explicitly set `max_features=1.0` or remove this parameter as it is also the default value for RandomForestRegressors and ExtraTreesRegressors.\n",
      "  warn(\n",
      "/Users/xaviersavarimuthu/anaconda3/lib/python3.10/site-packages/sklearn/ensemble/_forest.py:413: FutureWarning: `max_features='auto'` has been deprecated in 1.1 and will be removed in 1.3. To keep the past behaviour, explicitly set `max_features=1.0` or remove this parameter as it is also the default value for RandomForestRegressors and ExtraTreesRegressors.\n",
      "  warn(\n",
      "/Users/xaviersavarimuthu/anaconda3/lib/python3.10/site-packages/sklearn/ensemble/_forest.py:413: FutureWarning: `max_features='auto'` has been deprecated in 1.1 and will be removed in 1.3. To keep the past behaviour, explicitly set `max_features=1.0` or remove this parameter as it is also the default value for RandomForestRegressors and ExtraTreesRegressors.\n",
      "  warn(\n"
     ]
    }
   ],
   "source": [
    "rf = RandomForestRegressor()\n",
    "# Random search of parameters, using 3 fold cross validation, \n",
    "# search across 100 different combinations, and use all available cores\n",
    "rf_random = RandomizedSearchCV(estimator = rf, param_distributions = random_grid, n_iter = 100, cv = 3, verbose=2, random_state=42, n_jobs = -1)\n",
    "# Fit the random search model\n",
    "rf_random.fit(x_train, y_train)\n"
   ]
  },
  {
   "cell_type": "code",
   "execution_count": null,
   "id": "561ad7b2",
   "metadata": {},
   "outputs": [],
   "source": []
  }
 ],
 "metadata": {
  "kernelspec": {
   "display_name": "Python 3 (ipykernel)",
   "language": "python",
   "name": "python3"
  },
  "language_info": {
   "codemirror_mode": {
    "name": "ipython",
    "version": 3
   },
   "file_extension": ".py",
   "mimetype": "text/x-python",
   "name": "python",
   "nbconvert_exporter": "python",
   "pygments_lexer": "ipython3",
   "version": "3.10.9"
  }
 },
 "nbformat": 4,
 "nbformat_minor": 5
}
